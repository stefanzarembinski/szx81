{
 "cells": [
  {
   "cell_type": "code",
   "execution_count": 35,
   "metadata": {},
   "outputs": [
    {
     "data": {
      "text/plain": [
       "<module 'methodes' from 'c:\\\\Users\\\\stefa\\\\Documents\\\\workspaces\\\\szx81\\\\src\\\\methodes.py'>"
      ]
     },
     "execution_count": 35,
     "metadata": {},
     "output_type": "execute_result"
    }
   ],
   "source": [
    "from os import path\n",
    "import importlib\n",
    "\n",
    "import torch\n",
    "import torch.nn as nn\n",
    "import torch.nn.functional as F\n",
    "import torch.optim as optim\n",
    "torch.manual_seed(1)\n",
    "\n",
    "import methodes\n",
    "from methodes import Tokenizer\n",
    "importlib.reload(methodes)"
   ]
  },
  {
   "cell_type": "code",
   "execution_count": 36,
   "metadata": {},
   "outputs": [
    {
     "name": "stdout",
     "output_type": "stream",
     "text": [
      "Test data size (flats are duducted) is 5754\n",
      "Test data start time is 2023:01:03 21:34\n",
      "Test data end time is   2023:01:09 21:39\n",
      "Subtracting moving avarage: True\n"
     ]
    },
    {
     "ename": "TypeError",
     "evalue": "object of type 'NoneType' has no len()",
     "output_type": "error",
     "traceback": [
      "\u001b[1;31m---------------------------------------------------------------------------\u001b[0m",
      "\u001b[1;31mTypeError\u001b[0m                                 Traceback (most recent call last)",
      "Cell \u001b[1;32mIn[36], line 9\u001b[0m\n\u001b[0;32m      4\u001b[0m set_test_data(\n\u001b[0;32m      5\u001b[0m     data_count\u001b[38;5;241m=\u001b[39m\u001b[38;5;241m10000\u001b[39m, \n\u001b[0;32m      6\u001b[0m     moving_av\u001b[38;5;241m=\u001b[39m\u001b[38;5;28;01mTrue\u001b[39;00m)\n\u001b[0;32m      8\u001b[0m tokenizer \u001b[38;5;241m=\u001b[39m Tokenizer(VALUE)\n\u001b[1;32m----> 9\u001b[0m \u001b[43mtokenizer\u001b[49m\u001b[38;5;241;43m.\u001b[39;49m\u001b[43mset_quantization_limits\u001b[49m\u001b[43m(\u001b[49m\u001b[43m)\u001b[49m \n\u001b[0;32m     10\u001b[0m shift \u001b[38;5;241m=\u001b[39m \u001b[38;5;241m0\u001b[39m\n\u001b[0;32m     11\u001b[0m window \u001b[38;5;241m=\u001b[39m \u001b[38;5;241m120\u001b[39m \n",
      "File \u001b[1;32mc:\\Users\\stefa\\Documents\\workspaces\\szx81\\src\\methodes.py:225\u001b[0m, in \u001b[0;36mTokenizer.set_quantization_limits\u001b[1;34m(self)\u001b[0m\n\u001b[0;32m    222\u001b[0m value_set \u001b[38;5;241m=\u001b[39m []\n\u001b[0;32m    223\u001b[0m temperature_set \u001b[38;5;241m=\u001b[39m []\n\u001b[1;32m--> 225\u001b[0m \u001b[38;5;28;01mwhile\u001b[39;00m shift \u001b[38;5;241m+\u001b[39m Tokenizer\u001b[38;5;241m.\u001b[39mwindow \u001b[38;5;241m<\u001b[39m \u001b[38;5;28;43mlen\u001b[39;49m\u001b[43m(\u001b[49m\u001b[38;5;28;43mself\u001b[39;49m\u001b[38;5;241;43m.\u001b[39;49m\u001b[43mvalue_limits\u001b[49m\u001b[43m)\u001b[49m:\n\u001b[0;32m    226\u001b[0m     clazz \u001b[38;5;241m=\u001b[39m ls\u001b[38;5;241m.\u001b[39mpiecewise(\n\u001b[0;32m    227\u001b[0m         value\u001b[38;5;241m=\u001b[39m[(_[\u001b[38;5;241m0\u001b[39m] \u001b[38;5;241m+\u001b[39m _[\u001b[38;5;241m1\u001b[39m]) \u001b[38;5;241m/\u001b[39m \u001b[38;5;241m2\u001b[39m \u001b[38;5;28;01mfor\u001b[39;00m _ \u001b[38;5;129;01min\u001b[39;00m \u001b[38;5;28mself\u001b[39m\u001b[38;5;241m.\u001b[39mvalue_limits[shift: shift \u001b[38;5;241m+\u001b[39m Tokenizer\u001b[38;5;241m.\u001b[39mwindow]], \n\u001b[0;32m    228\u001b[0m         \u001b[38;5;28mfilter\u001b[39m\u001b[38;5;241m=\u001b[39mTokenizer\u001b[38;5;241m.\u001b[39mfilter, \n\u001b[0;32m    229\u001b[0m         number_pieces\u001b[38;5;241m=\u001b[39mTokenizer\u001b[38;5;241m.\u001b[39mnumber_pieces)\n\u001b[0;32m    230\u001b[0m     xk, yk \u001b[38;5;241m=\u001b[39m clazz\u001b[38;5;241m.\u001b[39mknots()\n",
      "\u001b[1;31mTypeError\u001b[0m: object of type 'NoneType' has no len()"
     ]
    }
   ],
   "source": [
    "from test_data import set_test_data, VALUE\n",
    "from methodes import Tokenizer\n",
    "\n",
    "set_test_data(\n",
    "    data_count=10000, \n",
    "    moving_av=True)\n",
    "\n",
    "tokenizer = Tokenizer(VALUE)\n",
    "tokenizer.set_quantization_limits() \n",
    "shift = 0\n",
    "window = 120 \n",
    "time_temp_value = []\n",
    "while shift + window < len(VALUE):\n",
    "    time_temp_value.extend(tokenizer.get_sentence(VALUE[shift: shift + window]))\n",
    "    shift += window"
   ]
  },
  {
   "cell_type": "code",
   "execution_count": null,
   "metadata": {},
   "outputs": [],
   "source": [
    "from core import DATA_STORE\n",
    "\n",
    "len(time_temp_value)\n",
    "whole_story = Tokenizer.get_sentence_str(time_temp_value)\n",
    "with open(\n",
    "    path.join(DATA_STORE, f'whole_story_{Tokenizer.window}_{Tokenizer.number_pieces}.txt'), 'w') as f:\n",
    "    for word in whole_story:\n",
    "        f.write(f'{str(word)}\\n')"
   ]
  },
  {
   "cell_type": "code",
   "execution_count": 2,
   "metadata": {},
   "outputs": [
    {
     "name": "stdout",
     "output_type": "stream",
     "text": [
      "len(words):  634\n",
      "words[:3]:\n",
      " [('6516', 1736), ('6506', 1617), ('6606', 1412)]\n"
     ]
    }
   ],
   "source": [
    "words = Tokenizer.get_words_from_file()\n",
    "print('len(words): ', len(words))\n",
    "print('words[:3]:\\n', words[:3])"
   ]
  },
  {
   "cell_type": "markdown",
   "metadata": {},
   "source": [
    "Większość słów ma niewiele powtórzeń: te słowa zastąpię jednym: '0000'."
   ]
  },
  {
   "cell_type": "code",
   "execution_count": 3,
   "metadata": {},
   "outputs": [
    {
     "name": "stdout",
     "output_type": "stream",
     "text": [
      "len(vocabulary):  151\n",
      "vocabulary[:3]:\n",
      " ['6516', '6506', '6606']\n"
     ]
    }
   ],
   "source": [
    "vocabulary = [_[0] for _ in words if _[1] > words[0][1] * 0.05]\n",
    "\n",
    "print('len(vocabulary): ', len(vocabulary))\n",
    "print('vocabulary[:3]:\\n', vocabulary[:3])"
   ]
  },
  {
   "cell_type": "markdown",
   "metadata": {},
   "source": [
    "Wszystkie dane historyczne przepisuję na słowa mam teraz ciąg zdarzeń który podzielę na części do treningu i do testów."
   ]
  },
  {
   "cell_type": "code",
   "execution_count": 4,
   "metadata": {},
   "outputs": [
    {
     "name": "stdout",
     "output_type": "stream",
     "text": [
      "len(story):  62095\n",
      "none-word count:  6703\n",
      "story[:3]:\n",
      " ['4517', '7417', '6617']\n"
     ]
    }
   ],
   "source": [
    "org_story = Tokenizer.get_story_from_file()\n",
    "story = [_ if _ in vocabulary else Tokenizer.none_word for _ in org_story]\n",
    "\n",
    "print('len(story): ', len(story))\n",
    "print('none-word count: ', story.count(Tokenizer.none_word))\n",
    "print('story[:3]:\\n', story[:3])"
   ]
  },
  {
   "cell_type": "code",
   "execution_count": null,
   "metadata": {},
   "outputs": [
    {
     "name": "stdout",
     "output_type": "stream",
     "text": [
      "\n",
      "the first 3 tuples of the training target:\n",
      " [(['6617', '5617', '6617', '7417', '4517'], '5617'), (['5617', '6617', '5617', '6617', '7417'], '6617'), (['6617', '5617', '6617', '5617', '6617'], '6617')]\n",
      "epoch: 0, total loss: 1.82e+05\n",
      "epoch: 1, total loss: 1.61e+05\n",
      "epoch: 2, total loss: 1.46e+05\n",
      "epoch: 3, total loss: 1.37e+05\n",
      "epoch: 4, total loss: 1.31e+05\n",
      "epoch: 5, total loss: 1.27e+05\n",
      "epoch: 6, total loss: 1.25e+05\n",
      "epoch: 7, total loss: 1.23e+05\n",
      "epoch: 8, total loss: 1.21e+05\n",
      "epoch: 9, total loss: 1.19e+05\n",
      "epoch: 10, total loss: 1.18e+05\n",
      "epoch: 11, total loss: 1.17e+05\n",
      "epoch: 12, total loss: 1.16e+05\n",
      "epoch: 13, total loss: 1.15e+05\n",
      "epoch: 14, total loss: 1.15e+05\n",
      "epoch: 15, total loss: 1.14e+05\n",
      "epoch: 16, total loss: 1.13e+05\n",
      "epoch: 17, total loss: 1.13e+05\n",
      "epoch: 18, total loss: 1.12e+05\n",
      "epoch: 19, total loss: 1.12e+05\n",
      "epoch: 20, total loss: 1.11e+05\n",
      "epoch: 21, total loss: 1.11e+05\n",
      "epoch: 22, total loss: 1.10e+05\n",
      "epoch: 23, total loss: 1.10e+05\n",
      "epoch: 24, total loss: 1.10e+05\n",
      "epoch: 25, total loss: 1.09e+05\n",
      "epoch: 26, total loss: 1.09e+05\n",
      "epoch: 27, total loss: 1.08e+05\n",
      "epoch: 28, total loss: 1.08e+05\n",
      "epoch: 29, total loss: 1.08e+05\n",
      "epoch: 30, total loss: 1.08e+05\n",
      "epoch: 31, total loss: 1.07e+05\n",
      "epoch: 32, total loss: 1.07e+05\n",
      "epoch: 33, total loss: 1.07e+05\n",
      "epoch: 34, total loss: 1.07e+05\n",
      "epoch: 35, total loss: 1.06e+05\n",
      "epoch: 36, total loss: 1.06e+05\n",
      "epoch: 37, total loss: 1.06e+05\n",
      "epoch: 38, total loss: 1.06e+05\n",
      "epoch: 39, total loss: 1.06e+05\n",
      "epoch: 40, total loss: 1.05e+05\n",
      "epoch: 41, total loss: 1.05e+05\n",
      "epoch: 42, total loss: 1.05e+05\n",
      "epoch: 43, total loss: 1.05e+05\n",
      "epoch: 44, total loss: 1.05e+05\n",
      "epoch: 45, total loss: 1.04e+05\n",
      "epoch: 46, total loss: 1.04e+05\n",
      "epoch: 47, total loss: 1.04e+05\n",
      "epoch: 48, total loss: 1.04e+05\n",
      "epoch: 49, total loss: 1.04e+05\n",
      "\n",
      "loss decreased every iteration:\n",
      " [182395.68636354804, 161258.55877104402, 146106.20968267322, 136714.8671773374, 131104.34192588925, 127391.6024376154, 124675.81395405531, 122561.21880987287, 120844.41189268231, 119408.19251146913, 118176.16273006797, 117100.80084657669, 116151.16878148913, 115299.40797808766, 114531.51456791162, 113837.31857556105, 113202.99096542597, 112622.4325993061, 112083.89888268709, 111581.72102499008, 111113.37481559813, 110676.36979006231, 110264.2351668626, 109872.41526006162, 109501.39636601508, 109149.0525700748, 108814.41030625999, 108496.7859275043, 108192.51797892153, 107897.91847079992, 107618.69478134811, 107349.81069156528, 107090.74304917455, 106844.71885848045, 106604.803826347, 106372.68023261428, 106150.12980823219, 105935.48772747815, 105727.51582504809, 105528.66952446103, 105335.55020293593, 105144.74129356444, 104959.24403394759, 104780.61586540937, 104608.12614452839, 104440.57921130955, 104277.16797724366, 104120.50496992469, 103966.31809262931, 103815.30870723724]\n"
     ]
    }
   ],
   "source": [
    "CONTEXT_SIZE = 5\n",
    "EMBEDDING_DIM = 7\n",
    "\n",
    "data_len = len(story) \n",
    "training_data = story[: (data_len // 3) * 2]\n",
    "test_sentence = training_data\n",
    "# Each tuple is ([ word_i-CONTEXT_SIZE, ..., word_i-1 ], target word)\n",
    "ngrams = [\n",
    "    (\n",
    "        [test_sentence[i - j - 1] for j in range(CONTEXT_SIZE)],\n",
    "        test_sentence[i]\n",
    "    )\n",
    "    for i in range(CONTEXT_SIZE, len(test_sentence))\n",
    "]\n",
    "# Print the first 3, just so you can see what they look like.\n",
    "print('\\nthe first 3 tuples of the training target:\\n', ngrams[:3])\n",
    "\n",
    "vocab = set(test_sentence)\n",
    "word_to_ix = {word: i for i, word in enumerate(vocab)}\n",
    "\n",
    "# https://pytorch.org/tutorials/beginner/nlp/word_embeddings_tutorial.html\n",
    "# https://web.stanford.edu/~jurafsky/slp3/3.pdf\n",
    "class NGramLanguageModeler(nn.Module):\n",
    "\n",
    "    def __init__(self, vocab_size, embedding_dim, context_size):\n",
    "        super(NGramLanguageModeler, self).__init__()\n",
    "        self.embeddings = nn.Embedding(vocab_size, embedding_dim)\n",
    "        self.linear1 = nn.Linear(context_size * embedding_dim, 128)\n",
    "        self.linear2 = nn.Linear(128, vocab_size)\n",
    "\n",
    "    def forward(self, inputs):\n",
    "        embeds = self.embeddings(inputs).view((1, -1))\n",
    "        out = F.relu(self.linear1(embeds))\n",
    "        out = self.linear2(out)\n",
    "        log_probs = F.log_softmax(out, dim=1)\n",
    "        return log_probs\n",
    "\n",
    "\n",
    "losses = []\n",
    "loss_function = nn.NLLLoss()\n",
    "model = NGramLanguageModeler(len(vocab), EMBEDDING_DIM, CONTEXT_SIZE)\n",
    "\n",
    "optimizer = optim.SGD(model.parameters(), lr=0.001)\n",
    "\n",
    "for epoch in range(50):\n",
    "    total_loss = 0\n",
    "    for context, target in ngrams:\n",
    "\n",
    "        # Step 1. Prepare the inputs to be passed to the model (i.e, turn the words\n",
    "        # into integer indices and wrap them in tensors)\n",
    "        context_idxs = torch.tensor([word_to_ix[w] for w in context], dtype=torch.long)\n",
    "\n",
    "        # Step 2. Recall that torch *accumulates* gradients. Before passing in a\n",
    "        # new instance, you need to zero out the gradients from the old\n",
    "        # instance\n",
    "        model.zero_grad()\n",
    "\n",
    "        # Step 3. Run the forward pass, getting log probabilities over next\n",
    "        # words\n",
    "        log_probs = model(context_idxs)\n",
    "\n",
    "        # Step 4. Compute your loss function. (Again, Torch wants the target\n",
    "        # word wrapped in a tensor)\n",
    "        loss = loss_function(log_probs, torch.tensor([word_to_ix[target]], dtype=torch.long))\n",
    "\n",
    "        # Step 5. Do the backward pass and update the gradient\n",
    "        loss.backward()\n",
    "        optimizer.step()\n",
    "\n",
    "        # Get the Python number from a 1-element Tensor by calling tensor.item()\n",
    "        total_loss += loss.item()\n",
    "    print(f'epoch: {epoch}, total loss: {total_loss:.2e}')\n",
    "    losses.append(total_loss)\n",
    "\n",
    "print('\\nloss decreased every iteration:\\n', losses)  # The loss decreased every iteration over the training data!\n",
    "# To get the embedding of a particular word, e.g. \"beauty\""
   ]
  },
  {
   "cell_type": "code",
   "execution_count": 9,
   "metadata": {},
   "outputs": [
    {
     "name": "stdout",
     "output_type": "stream",
     "text": [
      "\n",
      "embedding the word \"6617\":\n",
      " tensor([ 0.5322, -1.9512,  0.4350, -1.6504, -1.3422, -1.5822,  0.0048],\n",
      "       grad_fn=<SelectBackward0>)\n"
     ]
    }
   ],
   "source": [
    "print('\\nembedding the word \"6617\":\\n', model.embeddings.weight[word_to_ix[\"6617\"]])"
   ]
  },
  {
   "cell_type": "code",
   "execution_count": 11,
   "metadata": {},
   "outputs": [
    {
     "name": "stdout",
     "output_type": "stream",
     "text": [
      "['T_destination', '__annotations__', '__call__', '__class__', '__constants__', '__delattr__', '__dict__', '__dir__', '__doc__', '__eq__', '__format__', '__ge__', '__getattr__', '__getattribute__', '__getstate__', '__gt__', '__hash__', '__init__', '__init_subclass__', '__le__', '__lt__', '__module__', '__ne__', '__new__', '__reduce__', '__reduce_ex__', '__repr__', '__setattr__', '__setstate__', '__sizeof__', '__str__', '__subclasshook__', '__weakref__', '_apply', '_backward_hooks', '_backward_pre_hooks', '_buffers', '_call_impl', '_compiled_call_impl', '_fill_padding_idx_with_zero', '_forward_hooks', '_forward_hooks_always_called', '_forward_hooks_with_kwargs', '_forward_pre_hooks', '_forward_pre_hooks_with_kwargs', '_get_backward_hooks', '_get_backward_pre_hooks', '_get_name', '_is_full_backward_hook', '_load_from_state_dict', '_load_state_dict_post_hooks', '_load_state_dict_pre_hooks', '_maybe_warn_non_full_backward_hook', '_modules', '_named_members', '_non_persistent_buffers_set', '_parameters', '_register_load_state_dict_pre_hook', '_register_state_dict_hook', '_replicate_for_data_parallel', '_save_to_state_dict', '_slow_forward', '_state_dict_hooks', '_state_dict_pre_hooks', '_version', '_wrapped_call_impl', 'add_module', 'apply', 'bfloat16', 'buffers', 'call_super_init', 'children', 'compile', 'cpu', 'cuda', 'double', 'dump_patches', 'embedding_dim', 'eval', 'extra_repr', 'float', 'forward', 'from_pretrained', 'get_buffer', 'get_extra_state', 'get_parameter', 'get_submodule', 'half', 'ipu', 'load_state_dict', 'max_norm', 'modules', 'mtia', 'named_buffers', 'named_children', 'named_modules', 'named_parameters', 'norm_type', 'num_embeddings', 'padding_idx', 'parameters', 'register_backward_hook', 'register_buffer', 'register_forward_hook', 'register_forward_pre_hook', 'register_full_backward_hook', 'register_full_backward_pre_hook', 'register_load_state_dict_post_hook', 'register_load_state_dict_pre_hook', 'register_module', 'register_parameter', 'register_state_dict_post_hook', 'register_state_dict_pre_hook', 'requires_grad_', 'reset_parameters', 'scale_grad_by_freq', 'set_extra_state', 'set_submodule', 'share_memory', 'sparse', 'state_dict', 'to', 'to_empty', 'train', 'training', 'type', 'weight', 'xpu', 'zero_grad']\n"
     ]
    }
   ],
   "source": [
    "print(dir(model.embeddings))"
   ]
  },
  {
   "cell_type": "code",
   "execution_count": null,
   "metadata": {},
   "outputs": [
    {
     "data": {
      "text/plain": [
       "40"
      ]
     },
     "execution_count": 17,
     "metadata": {},
     "output_type": "execute_result"
    }
   ],
   "source": [
    "def make_context_vector(context, word_to_ix):\n",
    "    idxs = [word_to_ix[w] for w in context]\n",
    "    return torch.tensor(idxs, dtype=torch.long)\n",
    "\n",
    "word_to_ix['6412']\n",
    "# model()"
   ]
  },
  {
   "cell_type": "code",
   "execution_count": 25,
   "metadata": {},
   "outputs": [
    {
     "name": "stdout",
     "output_type": "stream",
     "text": [
      "['6501', '6502', '6402', '6501', '0000', '6412', '6512', '5413', '7513', '6512', '0000']\n"
     ]
    }
   ],
   "source": [
    "test_data = story[data_len // 3:]\n",
    "print(test_data[:11])"
   ]
  }
 ],
 "metadata": {
  "kernelspec": {
   "display_name": "Python 3",
   "language": "python",
   "name": "python3"
  },
  "language_info": {
   "codemirror_mode": {
    "name": "ipython",
    "version": 3
   },
   "file_extension": ".py",
   "mimetype": "text/x-python",
   "name": "python",
   "nbconvert_exporter": "python",
   "pygments_lexer": "ipython3",
   "version": "3.10.7"
  }
 },
 "nbformat": 4,
 "nbformat_minor": 2
}
