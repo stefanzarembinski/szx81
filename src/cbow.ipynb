{
 "cells": [
  {
   "cell_type": "code",
   "execution_count": 21,
   "metadata": {},
   "outputs": [
    {
     "data": {
      "text/plain": [
       "<torch._C.Generator at 0x20efff4c390>"
      ]
     },
     "execution_count": 21,
     "metadata": {},
     "output_type": "execute_result"
    }
   ],
   "source": [
    "from os import path\n",
    "import importlib\n",
    "\n",
    "import torch\n",
    "import torch.nn as nn\n",
    "import torch.nn.functional as F\n",
    "import torch.optim as optim\n",
    "torch.manual_seed(1)"
   ]
  },
  {
   "cell_type": "code",
   "execution_count": 22,
   "metadata": {},
   "outputs": [
    {
     "name": "stdout",
     "output_type": "stream",
     "text": [
      "Test data size (flats are duducted) is 5754\n",
      "Test data start time is 2023:01:03 21:34\n",
      "Test data end time is   2023:01:09 21:39\n",
      "Subtracting moving avarage: True\n"
     ]
    }
   ],
   "source": [
    "import importlib\n",
    "import test_data as td\n",
    "from test_data import set_test_data\n",
    "import tokenizer as to\n",
    "from tokenizer import Tokenizer\n",
    "importlib.reload(to)\n",
    "\n",
    "set_test_data(\n",
    "    data_count=10000, \n",
    "    moving_av=True)\n",
    "\n",
    "tokenizer = Tokenizer(td.VALUE)\n",
    "tokenizer.set_quantization_limits() \n",
    "shift = 0\n",
    "window = 120 \n",
    "time_temp_value = []\n",
    "while shift + window < len(td.VALUE):\n",
    "    time_temp_value.extend(tokenizer.get_sentence(td.VALUE[shift: shift + window]))\n",
    "    shift += window"
   ]
  },
  {
   "cell_type": "code",
   "execution_count": 23,
   "metadata": {},
   "outputs": [],
   "source": [
    "from core import DATA_STORE\n",
    "\n",
    "len(time_temp_value)\n",
    "whole_story = Tokenizer.get_sentence_str(time_temp_value)\n",
    "with open(\n",
    "    path.join(DATA_STORE, f'whole_story_{Tokenizer.window}_{Tokenizer.number_pieces}.txt'), 'w') as f:\n",
    "    for word in whole_story:\n",
    "        f.write(f'{str(word)}\\n')"
   ]
  },
  {
   "cell_type": "code",
   "execution_count": 24,
   "metadata": {},
   "outputs": [
    {
     "name": "stdout",
     "output_type": "stream",
     "text": [
      "len(words):  634\n",
      "words[:3]:\n",
      " [('6516', 1736), ('6506', 1617), ('6606', 1412)]\n"
     ]
    }
   ],
   "source": [
    "words = Tokenizer.get_words_from_file()\n",
    "print('len(words): ', len(words))\n",
    "print('words[:3]:\\n', words[:3])"
   ]
  },
  {
   "cell_type": "markdown",
   "metadata": {},
   "source": [
    "Większość słów ma niewiele powtórzeń: te słowa zastąpię jednym: '0000'."
   ]
  },
  {
   "cell_type": "code",
   "execution_count": 25,
   "metadata": {},
   "outputs": [
    {
     "name": "stdout",
     "output_type": "stream",
     "text": [
      "len(vocabulary):  151\n",
      "vocabulary[:3]:\n",
      " ['6516', '6506', '6606']\n"
     ]
    }
   ],
   "source": [
    "vocabulary = [_[0] for _ in words if _[1] > words[0][1] * 0.05]\n",
    "\n",
    "print('len(vocabulary): ', len(vocabulary))\n",
    "print('vocabulary[:3]:\\n', vocabulary[:3])"
   ]
  },
  {
   "cell_type": "markdown",
   "metadata": {},
   "source": [
    "Wszystkie dane historyczne przepisuję na słowa mam teraz ciąg zdarzeń który podzielę na części do treningu i do testów."
   ]
  },
  {
   "cell_type": "code",
   "execution_count": 26,
   "metadata": {},
   "outputs": [
    {
     "name": "stdout",
     "output_type": "stream",
     "text": [
      "len(story):  517\n",
      "none-word count:  88\n",
      "story[:3]:\n",
      " ['0000', '7414', '7514']\n"
     ]
    }
   ],
   "source": [
    "org_story = Tokenizer.get_story_from_file()\n",
    "story = [_ if _ in vocabulary else Tokenizer.none_word for _ in org_story]\n",
    "\n",
    "print('len(story): ', len(story))\n",
    "print('none-word count: ', story.count(Tokenizer.none_word))\n",
    "print('story[:3]:\\n', story[:3])"
   ]
  },
  {
   "cell_type": "code",
   "execution_count": 27,
   "metadata": {},
   "outputs": [
    {
     "name": "stdout",
     "output_type": "stream",
     "text": [
      "[('0000', 1), ('7414', 1)]\n"
     ]
    }
   ],
   "source": [
    "data_len = len(story) \n",
    "training_data_raw = story[: (data_len // 3) * 2]\n",
    "test_data_raw = story[data_len // 3:]\n",
    "\n",
    "training_data_raw = [(_, 1) for _ in training_data_raw]\n",
    "print(training_data_raw[:2])"
   ]
  },
  {
   "cell_type": "markdown",
   "metadata": {},
   "source": [
    "Training data preparation"
   ]
  },
  {
   "cell_type": "code",
   "execution_count": 28,
   "metadata": {},
   "outputs": [
    {
     "name": "stdout",
     "output_type": "stream",
     "text": [
      "\n",
      "the first tuples of the training target:\n",
      " [([('0000', 1), ('7414', 1), ('7514', 1), ('6514', 1), ('6514', 1), ('6514', 1), ('7514', 1), ('6614', 1), ('6514', 1), ('7414', 1)], ('5614', 1))]\n"
     ]
    }
   ],
   "source": [
    "import torch\n",
    "import torch.nn as nn\n",
    "CONTEXT_SIZE = 5  # 2 words to the left, 2 to the right\n",
    "EMDEDDING_DIM = 10\n",
    "raw_text = training_data_raw\n",
    "\n",
    "def make_context_vector(context, word_to_ix):\n",
    "    idxs = [word_to_ix[w] for w in context]\n",
    "    return torch.tensor(idxs, dtype=torch.long)\n",
    "# By deriving a set from `raw_text`, we deduplicate the array \n",
    "\n",
    "vocab = set(raw_text)\n",
    "vocab_size = len(vocab)\n",
    "word_to_ix = {word:ix for ix, word in enumerate(vocab)}\n",
    "ix_to_word = {ix:word for ix, word in enumerate(vocab)}\n",
    "\n",
    "training_data = []\n",
    "for i in range(CONTEXT_SIZE, len(raw_text) - CONTEXT_SIZE):\n",
    "    context = []\n",
    "    for k in range(CONTEXT_SIZE):\n",
    "        context.append(raw_text[i - (CONTEXT_SIZE - k)])\n",
    "    for k in range(CONTEXT_SIZE):\n",
    "        context.append(raw_text[i + 1 + k])\n",
    "    # context = [raw_text[i - 2], raw_text[i - 1],\n",
    "    #            raw_text[i + 1], raw_text[i + 2]]\n",
    "    # [(['4517', '7417', '5617', '6617'], '6617')]\n",
    "    target = raw_text[i]\n",
    "    training_data.append((context, target))\n",
    "\n",
    "print('\\nthe first tuples of the training target:\\n', training_data[:1])"
   ]
  },
  {
   "cell_type": "markdown",
   "metadata": {},
   "source": [
    "Defining the CBOW Model"
   ]
  },
  {
   "cell_type": "code",
   "execution_count": 29,
   "metadata": {},
   "outputs": [],
   "source": [
    "class CBOW(torch.nn.Module):\n",
    "    def __init__(self, vocab_size, embedding_dim):\n",
    "        super(CBOW, self).__init__()\n",
    "        # out: 1 x emdedding_dim\n",
    "        self.embeddings = nn.Embedding(vocab_size, embedding_dim)\n",
    "        self.linear1 = nn.Linear(embedding_dim, 128)\n",
    "        self.activation_function1 = nn.ReLU()\n",
    "        \n",
    "        # out: 1 x vocab_size\n",
    "        self.linear2 = nn.Linear(128, vocab_size)\n",
    "        self.activation_function2 = nn.LogSoftmax(dim = -1)\n",
    "        \n",
    "    def forward(self, inputs):\n",
    "        embeds = sum(self.embeddings(inputs)).view(1,-1)\n",
    "        out = self.linear1(embeds)\n",
    "        out = self.activation_function1(out)\n",
    "        out = self.linear2(out)\n",
    "        out = self.activation_function2(out)\n",
    "        return out\n",
    "    def get_word_emdedding(self, word):\n",
    "        word = torch.tensor([word_to_ix[word]])\n",
    "        return self.embeddings(word).view(1,-1)"
   ]
  },
  {
   "cell_type": "markdown",
   "metadata": {},
   "source": [
    "Defining Parameters and Training"
   ]
  },
  {
   "cell_type": "code",
   "execution_count": 30,
   "metadata": {},
   "outputs": [
    {
     "name": "stdout",
     "output_type": "stream",
     "text": [
      "2.85e-01\n",
      "8.12e-02\n",
      "DONE\n"
     ]
    }
   ],
   "source": [
    "model = CBOW(vocab_size, EMDEDDING_DIM)\n",
    "loss_function = nn.NLLLoss()\n",
    "optimizer = torch.optim.SGD(model.parameters(), lr=0.001)\n",
    "\n",
    "count = 0\n",
    "for epoch in range(30):\n",
    "    total_loss = 0\n",
    "    for context, target in training_data:\n",
    "        context_vector = make_context_vector(context, word_to_ix)\n",
    "    log_probs = model(context_vector)\n",
    "    loss = loss_function(log_probs, torch.tensor([word_to_ix[target]]))\n",
    "\n",
    "    total_loss += loss\n",
    "    count += 1\n",
    "    if count % 15 == 0:\n",
    "        print(f'{loss:.2e}')\n",
    "    #optimize at the end of each epoch\n",
    "    optimizer.zero_grad()\n",
    "    total_loss.backward()\n",
    "    optimizer.step()\n",
    "\n",
    "print('DONE')"
   ]
  },
  {
   "cell_type": "markdown",
   "metadata": {},
   "source": [
    "Testing"
   ]
  },
  {
   "cell_type": "code",
   "execution_count": 32,
   "metadata": {},
   "outputs": [
    {
     "name": "stdout",
     "output_type": "stream",
     "text": [
      "Context: ['6501', '6502', '6402', '6501', '0000', '6512', '5413', '7513', '6512', '0000']\n",
      "\n",
      "Prediction: 6500\n"
     ]
    }
   ],
   "source": [
    "context = ['6501', '6502', '6402', '6501', '0000', '6512', '5413', '7513', '6512', '0000']\n",
    "context_vector = make_context_vector(context, word_to_ix)\n",
    "a = model(context_vector)\n",
    "\n",
    "print(f'Context: {context}\\n')\n",
    "print(f'Prediction: {ix_to_word[torch.argmax(a[0]).item()]}')"
   ]
  },
  {
   "cell_type": "code",
   "execution_count": 33,
   "metadata": {},
   "outputs": [
    {
     "name": "stdout",
     "output_type": "stream",
     "text": [
      "6.39e-03\n",
      "6.07e-03\n",
      "5.78e-03\n",
      "5.52e-03\n",
      "5.28e-03\n",
      "5.06e-03\n",
      "4.85e-03\n",
      "4.67e-03\n",
      "4.49e-03\n",
      "4.33e-03\n",
      "4.18e-03\n",
      "4.04e-03\n",
      "3.91e-03\n",
      "3.78e-03\n",
      "3.67e-03\n",
      "3.56e-03\n",
      "3.45e-03\n",
      "3.36e-03\n",
      "3.26e-03\n",
      "3.18e-03\n",
      "DONE\n"
     ]
    }
   ],
   "source": [
    "count = 0\n",
    "for epoch in range(300):\n",
    "    total_loss = 0\n",
    "    for context, target in data:\n",
    "        context_vector = make_context_vector(context, word_to_ix)\n",
    "    log_probs = model(context_vector)\n",
    "    loss = loss_function(log_probs, torch.tensor([word_to_ix[target]]))\n",
    "\n",
    "    total_loss += loss\n",
    "    count += 1\n",
    "    if count % 15 == 0:\n",
    "        print(f'{loss:.2e}')\n",
    "    #optimize at the end of each epoch\n",
    "    optimizer.zero_grad()\n",
    "    total_loss.backward()\n",
    "    optimizer.step()\n",
    "\n",
    "print('DONE')"
   ]
  },
  {
   "cell_type": "code",
   "execution_count": 34,
   "metadata": {},
   "outputs": [
    {
     "name": "stdout",
     "output_type": "stream",
     "text": [
      "Context: ['6501', '6502', '6402', '6501', '0000', '6512', '5413', '7513', '6512', '0000']\n",
      "\n",
      "Prediction: 6500\n"
     ]
    }
   ],
   "source": [
    "context = ['6501', '6502', '6402', '6501', '0000', '6512', '5413', '7513', '6512', '0000']\n",
    "context_vector = make_context_vector(context, word_to_ix)\n",
    "a = model(context_vector)\n",
    "\n",
    "print(f'Context: {context}\\n')\n",
    "print(f'Prediction: {ix_to_word[torch.argmax(a[0]).item()]}')"
   ]
  }
 ],
 "metadata": {
  "kernelspec": {
   "display_name": "Python 3",
   "language": "python",
   "name": "python3"
  },
  "language_info": {
   "codemirror_mode": {
    "name": "ipython",
    "version": 3
   },
   "file_extension": ".py",
   "mimetype": "text/x-python",
   "name": "python",
   "nbconvert_exporter": "python",
   "pygments_lexer": "ipython3",
   "version": "3.10.7"
  }
 },
 "nbformat": 4,
 "nbformat_minor": 2
}
