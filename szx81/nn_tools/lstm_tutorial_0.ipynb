{
 "cells": [
  {
   "cell_type": "markdown",
   "metadata": {},
   "source": [
    "# [How to apply LSTM using PyTorch](https://cnvrg.io/pytorch-lstm/) - Practical Implementation in PyTorch\n"
   ]
  },
  {
   "cell_type": "code",
   "execution_count": 279,
   "metadata": {},
   "outputs": [],
   "source": [
    "import sys\n",
    "import os\n",
    "from os import path\n",
    "import importlib\n",
    "\n",
    "import numpy as np\n",
    "np.set_printoptions(formatter={'float_kind':\"{:-.3e}\".format})\n",
    "np.random.seed(0)\n",
    "\n",
    "import pandas as pd\n",
    "from sklearn.preprocessing import StandardScaler, MinMaxScaler\n",
    "import matplotlib.pyplot as plt\n",
    "plt.rcParams['figure.figsize'] = (5, 4)\n",
    "\n",
    "import torch\n",
    "torch.manual_seed(0)\n",
    "\n",
    "import torch.nn as nn\n",
    "from torch.autograd import Variable\n",
    "\n",
    "SRC_DIR = path.join(os.path.abspath(\"\"), '../')\n",
    "sys.path.append(SRC_DIR)\n",
    "\n",
    "import core as co\n",
    "from core import _\n",
    "import hist_data as hd"
   ]
  },
  {
   "cell_type": "code",
   "execution_count": 281,
   "metadata": {},
   "outputs": [],
   "source": [
    "hd.set_hist_data(data_count=None)"
   ]
  },
  {
   "cell_type": "code",
   "execution_count": 280,
   "metadata": {},
   "outputs": [],
   "source": [
    "def sinus_data(num):\n",
    "    return np.sin([i * .1 for i in range(num)])\n",
    "\n",
    "def sinus_data_source(index=None, total_len=None, debug=False):\n",
    "    if index is None:\n",
    "        return None\n",
    "    _data = sinus_data(total_len)\n",
    "    data_X = []\n",
    "    data_y = []\n",
    "    for i in range(0, total_len):\n",
    "        y = _data[i]\n",
    "        if debug:\n",
    "            y = i\n",
    "        data_y.append(y)\n",
    "        # data_X.append((y, hd_values[i][2]))\n",
    "        data_X.append(y)\n",
    "\n",
    "    return data_X, data_y"
   ]
  },
  {
   "cell_type": "code",
   "execution_count": null,
   "metadata": {},
   "outputs": [],
   "source": [
    "def forex_data_source(index=None, total_len=None, debug=False):\n",
    "    if index is None:\n",
    "        return len(hd_values)\n",
    "    \n",
    "    data_X = []\n",
    "    data_y = []\n",
    "    for i in range(index, index + total_len):\n",
    "        y = (hd_values[i][1][0][0] + hd_values[i][1][1][0]) / 2\n",
    "        if debug:\n",
    "            y = i\n",
    "        data_y.append(y)\n",
    "        # data_X.append((y, hd_values[i][2]))\n",
    "        data_X.append(y)\n",
    "\n",
    "    return data_X, data_y\n",
    "\n",
    "def train_test_data(\n",
    "        data_source,\n",
    "        training=TRAINING_NUM, testing=TESTING_NUM, \n",
    "        seq_len=SEQ_LEN, future=FUTURE, start=0, debug=False):\n",
    "    \n",
    "    X_train = []\n",
    "    y_train = []\n",
    "\n",
    "    X_test = []\n",
    "    y_test = []\n",
    "    index = max(0, start // DAY)\n",
    "    total_len = training + testing + future + seq_len\n",
    "    \n",
    "    if data_source() is not None:\n",
    "        if index + total_len > data_source():\n",
    "            raise Exception('')\n",
    "    \n",
    "    data_X, data_y = data_source(index, total_len, debug)\n",
    "    \n",
    "    def create_sequences(start, seq_len, num):\n",
    "        \"\"\"Lists sequences of ``data`` items, ``seq_len`` long, ``num`` of them, \n",
    "        starting from ``start`` index of ``data``. Each next sequence is shifted\n",
    "        by 1 from the previous.\n",
    "        \"\"\"\n",
    "        list_x = []\n",
    "        list_y = []\n",
    "        for i in range(start, start + num):\n",
    "            x = data_X[i: (i + seq_len)]\n",
    "            list_x.append(x)\n",
    "\n",
    "        for i in range(start + future - 1, start + num + future - 1):\n",
    "            y = data_y[i + seq_len]\n",
    "            list_y.append(y)\n",
    "\n",
    "        return np.array(list_x), np.array(list_y)\n",
    "\n",
    "    X_train, y_train = create_sequences(index, seq_len, training)\n",
    "    X_test, y_test = create_sequences(index + training, seq_len, testing)\n",
    "\n",
    "    if debug:\n",
    "        print(f'start={start}, training={training}, testing={testing}, seq_len={seq_len}, future={future}')\n",
    "        print(f'X_train:\\n{X_train}')\n",
    "        print(f'y_train:\\n{y_train}')\n",
    "        print()\n",
    "        print(f'X_test:\\n{X_test}')\n",
    "        print(f'y_test:\\n{y_test}')\n",
    "\n",
    "    return(X_train, y_train, X_test, y_test)"
   ]
  },
  {
   "cell_type": "code",
   "execution_count": 296,
   "metadata": {},
   "outputs": [
    {
     "ename": "IndexError",
     "evalue": "list index out of range",
     "output_type": "error",
     "traceback": [
      "\u001b[1;31m---------------------------------------------------------------------------\u001b[0m",
      "\u001b[1;31mIndexError\u001b[0m                                Traceback (most recent call last)",
      "Cell \u001b[1;32mIn[296], line 1\u001b[0m\n\u001b[1;32m----> 1\u001b[0m X_train, y_train, X_test, y_test \u001b[38;5;241m=\u001b[39m \u001b[43mtrain_test_data\u001b[49m\u001b[43m(\u001b[49m\u001b[43mforex_data_source\u001b[49m\u001b[43m)\u001b[49m\n",
      "Cell \u001b[1;32mIn[282], line 55\u001b[0m, in \u001b[0;36mtrain_test_data\u001b[1;34m(data_source, training, testing, seq_len, future, start, debug)\u001b[0m\n\u001b[0;32m     52\u001b[0m     \u001b[38;5;28;01mreturn\u001b[39;00m np\u001b[38;5;241m.\u001b[39marray(list_x), np\u001b[38;5;241m.\u001b[39marray(list_y)\n\u001b[0;32m     54\u001b[0m X_train, y_train \u001b[38;5;241m=\u001b[39m create_sequences(index, training)\n\u001b[1;32m---> 55\u001b[0m X_test, y_test \u001b[38;5;241m=\u001b[39m \u001b[43mcreate_sequences\u001b[49m\u001b[43m(\u001b[49m\u001b[43mindex\u001b[49m\u001b[43m \u001b[49m\u001b[38;5;241;43m+\u001b[39;49m\u001b[43m \u001b[49m\u001b[43mtraining\u001b[49m\u001b[43m,\u001b[49m\u001b[43m \u001b[49m\u001b[43mtesting\u001b[49m\u001b[43m)\u001b[49m\n\u001b[0;32m     57\u001b[0m \u001b[38;5;28;01mif\u001b[39;00m debug:\n\u001b[0;32m     58\u001b[0m     \u001b[38;5;28mprint\u001b[39m(\u001b[38;5;124mf\u001b[39m\u001b[38;5;124m'\u001b[39m\u001b[38;5;124mX_train:\u001b[39m\u001b[38;5;130;01m\\n\u001b[39;00m\u001b[38;5;132;01m{\u001b[39;00mX_train\u001b[38;5;132;01m}\u001b[39;00m\u001b[38;5;124m'\u001b[39m)\n",
      "Cell \u001b[1;32mIn[282], line 48\u001b[0m, in \u001b[0;36mtrain_test_data.<locals>.create_sequences\u001b[1;34m(start, num)\u001b[0m\n\u001b[0;32m     46\u001b[0m \u001b[38;5;28;01mfor\u001b[39;00m i \u001b[38;5;129;01min\u001b[39;00m \u001b[38;5;28mrange\u001b[39m(start, start \u001b[38;5;241m+\u001b[39m num):\n\u001b[0;32m     47\u001b[0m     x \u001b[38;5;241m=\u001b[39m data_X[i: (i \u001b[38;5;241m+\u001b[39m seq_len)]\n\u001b[1;32m---> 48\u001b[0m     y \u001b[38;5;241m=\u001b[39m \u001b[43mdata_y\u001b[49m\u001b[43m[\u001b[49m\u001b[43mi\u001b[49m\u001b[43m \u001b[49m\u001b[38;5;241;43m+\u001b[39;49m\u001b[43m \u001b[49m\u001b[43mseq_len\u001b[49m\u001b[43m \u001b[49m\u001b[38;5;241;43m+\u001b[39;49m\u001b[43m \u001b[49m\u001b[43mfuture\u001b[49m\u001b[43m]\u001b[49m\n\u001b[0;32m     49\u001b[0m     list_x\u001b[38;5;241m.\u001b[39mappend(x)\n\u001b[0;32m     50\u001b[0m     list_y\u001b[38;5;241m.\u001b[39mappend(y)\n",
      "\u001b[1;31mIndexError\u001b[0m: list index out of range"
     ]
    }
   ],
   "source": [
    "X_train, y_train, X_test, y_test = train_test_data(forex_data_source)"
   ]
  },
  {
   "cell_type": "code",
   "execution_count": null,
   "metadata": {},
   "outputs": [
    {
     "name": "stdout",
     "output_type": "stream",
     "text": [
      "X_train:\n",
      "[[0 1 2]\n",
      " [1 2 3]\n",
      " [2 3 4]]\n",
      "y_train:\n",
      "[4 5 6]\n",
      "\n",
      "X_test:\n",
      "[[3 4 5]\n",
      " [4 5 6]\n",
      " [5 6 7]]\n",
      "y_test:\n",
      "[7 8 9]\n"
     ]
    }
   ],
   "source": [
    "future = 1\n",
    "X_train, y_train, X_test, y_test = train_test_data(\n",
    "    sinus_data_source, \n",
    "    training=3, \n",
    "    testing=3, \n",
    "    seq_len=3,\n",
    "    future=future, debug=True)\n"
   ]
  },
  {
   "cell_type": "code",
   "execution_count": null,
   "metadata": {},
   "outputs": [
    {
     "data": {
      "text/markdown": [
       "``Orange y_train[0]`` is next to the blue sequence ``X_train[0]``. Blue balls are\n",
       "single input to LSTM nn, orange one is the learning pattern.\n"
      ],
      "text/plain": [
       "<IPython.core.display.Markdown object>"
      ]
     },
     "metadata": {},
     "output_type": "display_data"
    },
    {
     "data": {
      "image/png": "[encoded data removed]",
      "text/plain": [
       "<Figure size 500x400 with 1 Axes>"
      ]
     },
     "metadata": {},
     "output_type": "display_data"
    }
   ],
   "source": [
    "future = 1\n",
    "X_train, y_train, X_test, y_test = train_test_data(\n",
    "    sinus_data_source, \n",
    "    training=1000, \n",
    "    testing=50, \n",
    "    seq_len=10,\n",
    "    future=future)\n",
    "\n",
    "_(\"\"\"``Orange y_train[0]`` is next to the blue sequence ``X_train[0]``. Blue balls are\n",
    "single input to LSTM nn, orange one is the learning pattern.\n",
    "\"\"\")\n",
    "yy = X_train[0]\n",
    "xx = [_ for _ in range(len(yy))]\n",
    "plt.scatter(xx, yy, color='blue', label='X_train[0]')\n",
    "plt.scatter([len(yy) + future], y_train[0], color='orange', label='y_train[0]', \n",
    "            linewidths=10, alpha=0.5)\n",
    "plt.legend()\n",
    "plt.show()"
   ]
  },
  {
   "cell_type": "code",
   "execution_count": null,
   "metadata": {},
   "outputs": [],
   "source": [
    "def data_preprocessing(X, y):\n",
    "    X = StandardScaler().fit_transform(X)\n",
    "    X = Variable(torch.Tensor(X))\n",
    "    X = torch.reshape(X, (X.shape[0], 1, X.shape[1]))\n",
    "\n",
    "    y = y.reshape(-1, 1)\n",
    "    y = MinMaxScaler().fit_transform(y)\n",
    "    y = Variable(torch.Tensor(y))\n",
    "\n",
    "    # X = torch.tensor(X[:, :, None], dtype=torch.float32)\n",
    "    # y = torch.tensor(y[:, None], dtype=torch.float32)\n",
    "\n",
    "    return X, y\n",
    "\n",
    "def nn_trening_result(model, X, y, offset=0, label='', color='blue', alpha=1, verbose=None):\n",
    "    X, y = data_preprocessing(X, y)\n",
    "    \n",
    "    (mm := MinMaxScaler()).fit_transform(y) # 'Close' column\n",
    "    y = mm.transform(y) #old transformers\n",
    "    y = Variable(torch.Tensor(y))    #reshaping the dataset\n",
    "\n",
    "    y_np = y.data.numpy()\n",
    "    y_np = np.transpose(mm.inverse_transform(y_np))\n",
    "\n",
    "    nn_answer = model(X)#forward pass\n",
    "\n",
    "    if verbose is not None:\n",
    "        print(f'''\n",
    "              {verbose}\n",
    "formatted feature data (length is {len(X)}): \n",
    "    {X[:1]}\n",
    "\n",
    "NN question[:1] (converted from formatted feature data, length is {len(X)}):\n",
    "    {X[:1]}\n",
    "NN answer[:5] (length is {len(nn_answer)}): \n",
    "    {nn_answer[:1]}\n",
    "              ''')\n",
    "\n",
    "    data_predict = nn_answer.data.numpy() #numpy conversion\n",
    "    data_predict = mm.inverse_transform(data_predict) #reverse transformation\n",
    "    time = np.array([_ for _ in range(offset, offset + len(X))])\n",
    "\n",
    "    data_predict = np.transpose(data_predict)\n",
    "    for i in range(len(data_predict)):\n",
    "        diff_0 = y_np[i][1] - data_predict[i][0]\n",
    "        y_np[i] = y_np[i] - diff_0\n",
    "        plt.plot(time - 1, y_np[i], label=label + f'- Actual Data', color='black', \n",
    "                 alpha=0.2, linewidth=5) #actual plot\n",
    "        plt.plot(time, data_predict[i], label=label + f'- Predicted Data', \n",
    "                 color=color, alpha=alpha) #predicted plot\n",
    "        plt.legend()\n",
    "        plt.show() "
   ]
  },
  {
   "cell_type": "code",
   "execution_count": null,
   "metadata": {},
   "outputs": [],
   "source": [
    "class Model(nn.Module):\n",
    "    def __init__(self, input_size, hidden_size, num_layers, output_size):\n",
    "        super(Model, self).__init__()\n",
    "\n",
    "        self.num_layers = num_layers\n",
    "        self.input_size = input_size\n",
    "        self.hidden_size = hidden_size\n",
    "\n",
    "        self.model = nn.LSTM(\n",
    "            input_size=input_size, \n",
    "            hidden_size=hidden_size,\n",
    "            num_layers=num_layers, \n",
    "            batch_first=True)\n",
    "        \n",
    "        self.fc =  nn.Linear(hidden_size, output_size)\n",
    "\n",
    "        self.relu = nn.ReLU()\n",
    "    \n",
    "    def forward(self,x):\n",
    "        h_0 = Variable(torch.zeros(self.num_layers, x.size(0), self.hidden_size))\n",
    "        c_0 = Variable(torch.zeros(self.num_layers, x.size(0), self.hidden_size))\n",
    "        out, (h_n, c_n) = self.model(x, (h_0.detach(), c_0.detach()))\n",
    "        out = self.fc(out[:, -1, :])  # Selecting the last output\n",
    "\n",
    "        return out"
   ]
  },
  {
   "cell_type": "code",
   "execution_count": null,
   "metadata": {},
   "outputs": [],
   "source": [
    "num_epochs = 1000\n",
    "accuracy = 1e-5\n",
    "learning_rate = 0.001\n",
    "\n",
    "input_size = 10\n",
    "hidden_size = 100\n",
    "output_size = 1\n",
    "num_layers = 3"
   ]
  },
  {
   "cell_type": "code",
   "execution_count": null,
   "metadata": {},
   "outputs": [],
   "source": [
    "X_train_t, y_train_t = data_preprocessing(X_train, y_train)\n",
    "\n",
    "model = Model(input_size, hidden_size, num_layers, output_size)\n",
    "criterion = torch.nn.MSELoss()\n",
    "optimizer = torch.optim.Adam(model.parameters(), lr=learning_rate) "
   ]
  },
  {
   "cell_type": "code",
   "execution_count": null,
   "metadata": {},
   "outputs": [
    {
     "name": "stdout",
     "output_type": "stream",
     "text": [
      "Epoch [10/1000], Loss: 3.2e-01\n",
      "Epoch [20/1000], Loss: 1.8e-01\n",
      "Epoch [30/1000], Loss: 6.5e-02\n",
      "Epoch [40/1000], Loss: 3.8e-02\n",
      "Epoch [50/1000], Loss: 3.1e-02\n",
      "Epoch [60/1000], Loss: 2.0e-02\n",
      "Epoch [70/1000], Loss: 1.0e-02\n",
      "Epoch [80/1000], Loss: 3.1e-03\n",
      "Epoch [90/1000], Loss: 2.8e-04\n",
      "Epoch [100/1000], Loss: 2.7e-04\n",
      "Epoch [110/1000], Loss: 2.6e-04\n",
      "Epoch [120/1000], Loss: 1.1e-04\n",
      "Epoch [130/1000], Loss: 1.0e-04\n",
      "Epoch [140/1000], Loss: 1.0e-04\n",
      "Epoch [150/1000], Loss: 9.2e-05\n",
      "Epoch [160/1000], Loss: 9.0e-05\n",
      "Epoch [170/1000], Loss: 8.8e-05\n",
      "Epoch [180/1000], Loss: 8.6e-05\n",
      "Epoch [190/1000], Loss: 8.4e-05\n",
      "Epoch [200/1000], Loss: 8.2e-05\n",
      "Epoch [210/1000], Loss: 8.0e-05\n",
      "Epoch [220/1000], Loss: 7.8e-05\n",
      "Epoch [230/1000], Loss: 7.6e-05\n",
      "Epoch [240/1000], Loss: 7.4e-05\n",
      "Epoch [250/1000], Loss: 7.2e-05\n",
      "Epoch [260/1000], Loss: 7.0e-05\n",
      "Epoch [270/1000], Loss: 6.8e-05\n",
      "Epoch [280/1000], Loss: 6.6e-05\n",
      "Epoch [290/1000], Loss: 6.4e-05\n",
      "Epoch [300/1000], Loss: 6.2e-05\n",
      "Epoch [310/1000], Loss: 6.0e-05\n",
      "Epoch [320/1000], Loss: 5.8e-05\n",
      "Epoch [330/1000], Loss: 5.6e-05\n",
      "Epoch [340/1000], Loss: 5.5e-05\n",
      "Epoch [350/1000], Loss: 5.3e-05\n",
      "Epoch [360/1000], Loss: 5.1e-05\n",
      "Epoch [370/1000], Loss: 4.9e-05\n",
      "Epoch [380/1000], Loss: 4.7e-05\n",
      "Epoch [390/1000], Loss: 4.5e-05\n",
      "Epoch [400/1000], Loss: 4.3e-05\n",
      "Epoch [410/1000], Loss: 4.1e-05\n",
      "Epoch [420/1000], Loss: 3.9e-05\n",
      "Epoch [430/1000], Loss: 3.8e-05\n",
      "Epoch [440/1000], Loss: 3.6e-05\n",
      "Epoch [450/1000], Loss: 3.4e-05\n",
      "Epoch [460/1000], Loss: 3.2e-05\n",
      "Epoch [470/1000], Loss: 3.1e-05\n",
      "Epoch [480/1000], Loss: 2.9e-05\n",
      "Epoch [490/1000], Loss: 2.7e-05\n",
      "Epoch [500/1000], Loss: 2.6e-05\n",
      "Epoch [510/1000], Loss: 2.4e-05\n",
      "Epoch [520/1000], Loss: 2.3e-05\n",
      "Epoch [530/1000], Loss: 2.1e-05\n",
      "Epoch [540/1000], Loss: 2.0e-05\n",
      "Epoch [550/1000], Loss: 1.8e-05\n",
      "Epoch [560/1000], Loss: 1.7e-05\n",
      "Epoch [570/1000], Loss: 1.6e-05\n",
      "Epoch [580/1000], Loss: 1.4e-05\n",
      "Epoch [590/1000], Loss: 1.3e-05\n",
      "Epoch [600/1000], Loss: 1.2e-05\n",
      "Epoch [610/1000], Loss: 1.1e-05\n",
      "Epoch [620/1000], Loss: 1.0e-05\n",
      "Epoch [630/1000], Loss: 9.4e-06\n",
      "Epoch [640/1000], Loss: 8.5e-06\n",
      "Epoch [650/1000], Loss: 7.8e-06\n",
      "Epoch [660/1000], Loss: 7.0e-06\n",
      "Epoch [670/1000], Loss: 6.4e-06\n",
      "Epoch [680/1000], Loss: 5.7e-06\n",
      "Epoch [690/1000], Loss: 5.2e-06\n",
      "Epoch [700/1000], Loss: 4.6e-06\n",
      "Epoch [710/1000], Loss: 4.2e-06\n"
     ]
    }
   ],
   "source": [
    "loss0 = None\n",
    "for epoch in range(num_epochs):\n",
    "    outputs = model(X_train_t)\n",
    "    optimizer.zero_grad()\n",
    "    loss = criterion(outputs, y_train_t)  \n",
    "    loss.backward()\n",
    "    if loss0 is None:\n",
    "        loss0 = loss.item()\n",
    "    if loss.item() / loss0 < accuracy:\n",
    "        break\n",
    "    optimizer.step()\n",
    "\n",
    "    if (epoch+1) % 10 == 0:\n",
    "        print(f'Epoch [{epoch+1}/{num_epochs}], Loss: {loss.item():.1e}')"
   ]
  },
  {
   "cell_type": "code",
   "execution_count": null,
   "metadata": {},
   "outputs": [
    {
     "name": "stdout",
     "output_type": "stream",
     "text": [
      "\n",
      "              \n",
      "formatted feature data (length is 50): \n",
      "    tensor([[[-1.1935, -1.0101, -0.8223, -0.6347, -0.4503, -0.2713, -0.0988,\n",
      "           0.0667,  0.2251,  0.3769]]])\n",
      "\n",
      "NN question[:1] (converted from formatted feature data, length is 50):\n",
      "    tensor([[[-1.1935, -1.0101, -0.8223, -0.6347, -0.4503, -0.2713, -0.0988,\n",
      "           0.0667,  0.2251,  0.3769]]])\n",
      "NN answer[:5] (length is 50): \n",
      "    tensor([[0.7802]], grad_fn=<SliceBackward0>)\n",
      "              \n"
     ]
    },
    {
     "data": {
      "image/png": "[encoded data removed]",
      "text/plain": [
       "<Figure size 500x400 with 1 Axes>"
      ]
     },
     "metadata": {},
     "output_type": "display_data"
    }
   ],
   "source": [
    "nn_trening_result(model, X_test, y_test,\n",
    "        offset=0, label='testing', color='blue', alpha=0.3, verbose='')"
   ]
  },
  {
   "cell_type": "code",
   "execution_count": null,
   "metadata": {},
   "outputs": [
    {
     "name": "stdout",
     "output_type": "stream",
     "text": [
      "Model(\n",
      "  (model): LSTM(10, 100, num_layers=3, batch_first=True)\n",
      "  (fc): Linear(in_features=100, out_features=1, bias=True)\n",
      "  (relu): ReLU()\n",
      ")\n"
     ]
    }
   ],
   "source": [
    "print(model)"
   ]
  },
  {
   "cell_type": "code",
   "execution_count": null,
   "metadata": {},
   "outputs": [
    {
     "ename": "TypeError",
     "evalue": "data_preprocessing() missing 1 required positional argument: 'y'",
     "output_type": "error",
     "traceback": [
      "\u001b[1;31m---------------------------------------------------------------------------\u001b[0m",
      "\u001b[1;31mTypeError\u001b[0m                                 Traceback (most recent call last)",
      "Cell \u001b[1;32mIn[295], line 1\u001b[0m\n\u001b[1;32m----> 1\u001b[0m X, y \u001b[38;5;241m=\u001b[39m \u001b[43mdata_preprocessing\u001b[49m\u001b[43m(\u001b[49m\u001b[43mtesting_data\u001b[49m\u001b[43m)\u001b[49m\n\u001b[0;32m      2\u001b[0m X[\u001b[38;5;241m0\u001b[39m]\n\u001b[0;32m      3\u001b[0m y[\u001b[38;5;241m0\u001b[39m]\n",
      "\u001b[1;31mTypeError\u001b[0m: data_preprocessing() missing 1 required positional argument: 'y'"
     ]
    }
   ],
   "source": [
    "X, y = data_preprocessing(testing_data)\n",
    "X[0]\n",
    "y[0]\n",
    "nn_answer = model(X)\n",
    "nn_answer = np.transpose(nn_answer.detach().numpy())\n",
    "nn_answer[0]"
   ]
  }
 ],
 "metadata": {
  "kernelspec": {
   "display_name": "Python 3",
   "language": "python",
   "name": "python3"
  },
  "language_info": {
   "codemirror_mode": {
    "name": "ipython",
    "version": 3
   },
   "file_extension": ".py",
   "mimetype": "text/x-python",
   "name": "python",
   "nbconvert_exporter": "python",
   "pygments_lexer": "ipython3",
   "version": "3.10.7"
  }
 },
 "nbformat": 4,
 "nbformat_minor": 2
}
