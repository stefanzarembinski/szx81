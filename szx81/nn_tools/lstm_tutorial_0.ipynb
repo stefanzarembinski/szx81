{
 "cells": [
  {
   "cell_type": "markdown",
   "metadata": {},
   "source": [
    "# [How to apply LSTM using PyTorch](https://cnvrg.io/pytorch-lstm/) - Practical Implementation in PyTorch\n"
   ]
  },
  {
   "cell_type": "code",
   "execution_count": 1,
   "metadata": {},
   "outputs": [],
   "source": [
    "import sys\n",
    "import os\n",
    "from os import path\n",
    "import importlib\n",
    "\n",
    "import numpy as np\n",
    "np.set_printoptions(formatter={'float_kind':\"{:-.3e}\".format})\n",
    "np.random.seed(0)\n",
    "\n",
    "import pandas as pd\n",
    "from sklearn.preprocessing import StandardScaler, MinMaxScaler\n",
    "import matplotlib.pyplot as plt\n",
    "plt.rcParams['figure.figsize'] = (5, 4)\n",
    "\n",
    "import torch\n",
    "torch.manual_seed(0)\n",
    "\n",
    "import torch.nn as nn\n",
    "from torch.autograd import Variable\n",
    "\n",
    "SRC_DIR = path.join(os.path.abspath(\"\"), '../')\n",
    "sys.path.append(SRC_DIR)\n",
    "\n",
    "import core as co\n",
    "from core import _\n",
    "import hist_data as hd"
   ]
  },
  {
   "cell_type": "code",
   "execution_count": 281,
   "metadata": {},
   "outputs": [],
   "source": [
    "hd.set_hist_data(data_count=None)"
   ]
  },
  {
   "cell_type": "code",
   "execution_count": null,
   "metadata": {},
   "outputs": [],
   "source": [
    "def sinus_data(num):\n",
    "    return np.sin([i * .1 for i in range(num)])\n",
    "\n",
    "def sinus_data_source(index=None, total_len=None, debug=False):\n",
    "    if index is None:\n",
    "        return None\n",
    "    _data = sinus_data(total_len)\n",
    "    data_X = []\n",
    "    data_y = []\n",
    "    for i in range(0, total_len):\n",
    "        y = _data[i]\n",
    "        if debug:\n",
    "            y = i\n",
    "        data_y.append(y)\n",
    "        # data_X.append((y, hd_values[i][2]))\n",
    "        data_X.append(y)\n",
    "\n",
    "    return data_X, data_y"
   ]
  },
  {
   "cell_type": "code",
   "execution_count": 5,
   "metadata": {},
   "outputs": [],
   "source": [
    "import nn_tools.data_sequencer as ds\n",
    "\n",
    "start_day = 0\n",
    "context_len = 10\n",
    "future_len = 5\n",
    "\n",
    "cs = ds.ContextSequencer(\n",
    "    ds.ForexDataSource, start_day=start_day, seq_len=context_len, \n",
    "    future_len=future_len)\n",
    "\n",
    "X_train, y_train = cs.get_sequences(num=1000)\n",
    "X_test, y_test = cs.get_sequences(num=50)\n"
   ]
  },
  {
   "cell_type": "code",
   "execution_count": 4,
   "metadata": {},
   "outputs": [
    {
     "name": "stdout",
     "output_type": "stream",
     "text": [
      "start=8 data len=8, seq_len=3, num=3 future_len=2\n",
      "x:\n",
      "[[0 1 2]\n",
      " [1 2 3]\n",
      " [2 3 4]]\n",
      "y:\n",
      "[4 5 6]\n",
      "start=16 data len=8, seq_len=3, num=3 future_len=2\n",
      "x:\n",
      "[[ 8  9 10]\n",
      " [ 9 10 11]\n",
      " [10 11 12]]\n",
      "y:\n",
      "[12 13 14]\n"
     ]
    },
    {
     "data": {
      "text/plain": [
       "(array([[ 8,  9, 10],\n",
       "        [ 9, 10, 11],\n",
       "        [10, 11, 12]]),\n",
       " array([12, 13, 14]))"
      ]
     },
     "execution_count": 4,
     "metadata": {},
     "output_type": "execute_result"
    }
   ],
   "source": [
    "deb = ds.ContextSequencer(ds.ForexDataSource, start_day=0, seq_len=3, future_len=2)\n",
    "deb.get_sequences(num=3, debug=True)\n",
    "deb.get_sequences(num=3, debug=True)"
   ]
  },
  {
   "cell_type": "code",
   "execution_count": null,
   "metadata": {},
   "outputs": [],
   "source": [
    "# future = 1\n",
    "# X_train, y_train, X_test, y_test = train_test_data(\n",
    "#     sinus_data_source, \n",
    "#     training=1000, \n",
    "#     testing=50, \n",
    "#     seq_len=10,\n",
    "#     future=future)\n",
    "\n",
    "# _(\"\"\"``Orange y_train[0]`` is next to the blue sequence ``X_train[0]``. Blue balls are\n",
    "# single input to LSTM nn, orange one is the learning pattern.\n",
    "# \"\"\")\n",
    "# yy = X_train[0]\n",
    "# xx = [_ for _ in range(len(yy))]\n",
    "# plt.scatter(xx, yy, color='blue', label='X_train[0]')\n",
    "# plt.scatter([len(yy) + future], y_train[0], color='orange', label='y_train[0]', \n",
    "#             linewidths=10, alpha=0.5)\n",
    "# plt.legend()\n",
    "# plt.show()"
   ]
  },
  {
   "cell_type": "code",
   "execution_count": null,
   "metadata": {},
   "outputs": [],
   "source": [
    "def data_preprocessing(X, y):\n",
    "    X = StandardScaler().fit_transform(X)\n",
    "    X = Variable(torch.Tensor(X))\n",
    "    X = torch.reshape(X, (X.shape[0], 1, X.shape[1]))\n",
    "\n",
    "    y = y.reshape(-1, 1)\n",
    "    y = MinMaxScaler().fit_transform(y)\n",
    "    y = Variable(torch.Tensor(y))\n",
    "\n",
    "    # X = torch.tensor(X[:, :, None], dtype=torch.float32)\n",
    "    # y = torch.tensor(y[:, None], dtype=torch.float32)\n",
    "\n",
    "    return X, y\n",
    "\n",
    "\n",
    "\n",
    "def nn_trening_result(model, X, y, offset=0, label='', color='blue', alpha=1, verbose=None):\n",
    "    X, y = data_preprocessing(X, y)\n",
    "    \n",
    "    (mm := MinMaxScaler()).fit_transform(y) # 'Close' column\n",
    "    y = mm.transform(y) #old transformers\n",
    "    y = Variable(torch.Tensor(y))    #reshaping the dataset\n",
    "\n",
    "    y_np = y.data.numpy()\n",
    "    y_np = np.transpose(mm.inverse_transform(y_np))\n",
    "\n",
    "    nn_answer = model(X)#forward pass\n",
    "\n",
    "    if verbose is not None:\n",
    "        print(f'''\n",
    "              {verbose}\n",
    "formatted feature data (length is {len(X)}): \n",
    "    {X[:1]}\n",
    "\n",
    "NN question[:1] (converted from formatted feature data, length is {len(X)}):\n",
    "    {X[:1]}\n",
    "NN answer[:5] (length is {len(nn_answer)}): \n",
    "    {nn_answer[:1]}\n",
    "              ''')\n",
    "\n",
    "    data_predict = nn_answer.data.numpy() #numpy conversion\n",
    "    data_predict = mm.inverse_transform(data_predict) #reverse transformation\n",
    "    time = np.array([_ for _ in range(offset, offset + len(X))])\n",
    "\n",
    "    data_predict = np.transpose(data_predict)\n",
    "    for i in range(len(data_predict)):\n",
    "        diff_0 = y_np[i][1] - data_predict[i][0]\n",
    "        y_np[i] = y_np[i] - diff_0\n",
    "\n",
    "        plt.plot((time - 1)[130:], y_np[i][130:], label=label + f'- Actual Data', color='black', \n",
    "                 alpha=0.2, linewidth=5) #actual plot\n",
    "        plt.plot(time[130:], data_predict[i][130:], label=label + f'- Predicted Data', \n",
    "                 color=color, alpha=alpha) #predicted plot\n",
    "        plt.legend()\n",
    "        plt.show() "
   ]
  },
  {
   "cell_type": "code",
   "execution_count": 8,
   "metadata": {},
   "outputs": [],
   "source": [
    "class Model(nn.Module):\n",
    "    def __init__(self, input_size, hidden_size, num_layers, output_size):\n",
    "        super(Model, self).__init__()\n",
    "\n",
    "        self.num_layers = num_layers\n",
    "        self.input_size = input_size\n",
    "        self.hidden_size = hidden_size\n",
    "\n",
    "        self.model = nn.LSTM(\n",
    "            input_size=input_size, \n",
    "            hidden_size=hidden_size,\n",
    "            num_layers=num_layers, \n",
    "            batch_first=True)\n",
    "        \n",
    "        self.fc =  nn.Linear(hidden_size, output_size)\n",
    "\n",
    "        self.relu = nn.ReLU()\n",
    "    \n",
    "    def forward(self,x):\n",
    "        h_0 = Variable(torch.zeros(self.num_layers, x.size(0), self.hidden_size))\n",
    "        c_0 = Variable(torch.zeros(self.num_layers, x.size(0), self.hidden_size))\n",
    "        out, (h_n, c_n) = self.model(x, (h_0.detach(), c_0.detach()))\n",
    "        out = self.fc(out[:, -1, :])  # Selecting the last output\n",
    "\n",
    "        return out"
   ]
  },
  {
   "cell_type": "code",
   "execution_count": 9,
   "metadata": {},
   "outputs": [],
   "source": [
    "num_epochs = 1000\n",
    "accuracy = 1e-5\n",
    "learning_rate = 0.001\n",
    "\n",
    "input_size = 10\n",
    "hidden_size = 100\n",
    "output_size = 1\n",
    "num_layers = 3"
   ]
  },
  {
   "cell_type": "code",
   "execution_count": 10,
   "metadata": {},
   "outputs": [],
   "source": [
    "X_train_t, y_train_t = data_preprocessing(X_train, y_train)\n",
    "\n",
    "model = Model(input_size, hidden_size, num_layers, output_size)\n",
    "criterion = torch.nn.MSELoss()\n",
    "optimizer = torch.optim.Adam(model.parameters(), lr=learning_rate) "
   ]
  },
  {
   "cell_type": "code",
   "execution_count": 11,
   "metadata": {},
   "outputs": [
    {
     "name": "stdout",
     "output_type": "stream",
     "text": [
      "Epoch [10/1000], Loss: 3.2e-01\n",
      "Epoch [20/1000], Loss: 1.7e-01\n",
      "Epoch [30/1000], Loss: 3.1e-02\n",
      "Epoch [40/1000], Loss: 7.4e-03\n",
      "Epoch [50/1000], Loss: 8.6e-03\n",
      "Epoch [60/1000], Loss: 6.0e-03\n",
      "Epoch [70/1000], Loss: 3.9e-03\n",
      "Epoch [80/1000], Loss: 3.3e-03\n",
      "Epoch [90/1000], Loss: 2.9e-03\n",
      "Epoch [100/1000], Loss: 2.5e-03\n",
      "Epoch [110/1000], Loss: 2.2e-03\n",
      "Epoch [120/1000], Loss: 2.0e-03\n",
      "Epoch [130/1000], Loss: 1.8e-03\n",
      "Epoch [140/1000], Loss: 1.7e-03\n",
      "Epoch [150/1000], Loss: 1.7e-03\n",
      "Epoch [160/1000], Loss: 1.6e-03\n",
      "Epoch [170/1000], Loss: 1.6e-03\n",
      "Epoch [180/1000], Loss: 1.6e-03\n",
      "Epoch [190/1000], Loss: 1.6e-03\n",
      "Epoch [200/1000], Loss: 1.6e-03\n",
      "Epoch [210/1000], Loss: 1.6e-03\n",
      "Epoch [220/1000], Loss: 1.6e-03\n",
      "Epoch [230/1000], Loss: 1.6e-03\n",
      "Epoch [240/1000], Loss: 1.6e-03\n",
      "Epoch [250/1000], Loss: 1.6e-03\n",
      "Epoch [260/1000], Loss: 1.5e-03\n",
      "Epoch [270/1000], Loss: 1.5e-03\n",
      "Epoch [280/1000], Loss: 1.5e-03\n",
      "Epoch [290/1000], Loss: 1.5e-03\n",
      "Epoch [300/1000], Loss: 1.5e-03\n",
      "Epoch [310/1000], Loss: 1.5e-03\n",
      "Epoch [320/1000], Loss: 1.5e-03\n",
      "Epoch [330/1000], Loss: 1.5e-03\n",
      "Epoch [340/1000], Loss: 1.5e-03\n",
      "Epoch [350/1000], Loss: 1.5e-03\n",
      "Epoch [360/1000], Loss: 1.5e-03\n",
      "Epoch [370/1000], Loss: 1.5e-03\n",
      "Epoch [380/1000], Loss: 1.4e-03\n",
      "Epoch [390/1000], Loss: 1.4e-03\n",
      "Epoch [400/1000], Loss: 1.4e-03\n",
      "Epoch [410/1000], Loss: 1.4e-03\n",
      "Epoch [420/1000], Loss: 1.4e-03\n",
      "Epoch [430/1000], Loss: 1.4e-03\n",
      "Epoch [440/1000], Loss: 1.4e-03\n",
      "Epoch [450/1000], Loss: 1.4e-03\n",
      "Epoch [460/1000], Loss: 1.4e-03\n",
      "Epoch [470/1000], Loss: 1.4e-03\n",
      "Epoch [480/1000], Loss: 1.4e-03\n",
      "Epoch [490/1000], Loss: 1.4e-03\n",
      "Epoch [500/1000], Loss: 1.3e-03\n",
      "Epoch [510/1000], Loss: 1.3e-03\n",
      "Epoch [520/1000], Loss: 1.3e-03\n",
      "Epoch [530/1000], Loss: 1.3e-03\n",
      "Epoch [540/1000], Loss: 1.3e-03\n",
      "Epoch [550/1000], Loss: 1.3e-03\n",
      "Epoch [560/1000], Loss: 1.3e-03\n",
      "Epoch [570/1000], Loss: 1.3e-03\n",
      "Epoch [580/1000], Loss: 1.3e-03\n",
      "Epoch [590/1000], Loss: 1.3e-03\n",
      "Epoch [600/1000], Loss: 1.3e-03\n",
      "Epoch [610/1000], Loss: 1.3e-03\n",
      "Epoch [620/1000], Loss: 1.2e-03\n",
      "Epoch [630/1000], Loss: 1.2e-03\n",
      "Epoch [640/1000], Loss: 1.2e-03\n",
      "Epoch [650/1000], Loss: 1.2e-03\n",
      "Epoch [660/1000], Loss: 1.2e-03\n",
      "Epoch [670/1000], Loss: 1.2e-03\n",
      "Epoch [680/1000], Loss: 1.2e-03\n",
      "Epoch [690/1000], Loss: 1.2e-03\n",
      "Epoch [700/1000], Loss: 1.2e-03\n",
      "Epoch [710/1000], Loss: 1.2e-03\n",
      "Epoch [720/1000], Loss: 1.2e-03\n",
      "Epoch [730/1000], Loss: 1.2e-03\n",
      "Epoch [740/1000], Loss: 1.2e-03\n",
      "Epoch [750/1000], Loss: 1.2e-03\n",
      "Epoch [760/1000], Loss: 1.2e-03\n",
      "Epoch [770/1000], Loss: 1.2e-03\n",
      "Epoch [780/1000], Loss: 1.2e-03\n",
      "Epoch [790/1000], Loss: 1.2e-03\n",
      "Epoch [800/1000], Loss: 1.2e-03\n",
      "Epoch [810/1000], Loss: 1.2e-03\n",
      "Epoch [820/1000], Loss: 1.2e-03\n",
      "Epoch [830/1000], Loss: 1.2e-03\n",
      "Epoch [840/1000], Loss: 1.2e-03\n",
      "Epoch [850/1000], Loss: 1.2e-03\n",
      "Epoch [860/1000], Loss: 1.2e-03\n",
      "Epoch [870/1000], Loss: 1.2e-03\n",
      "Epoch [880/1000], Loss: 1.2e-03\n",
      "Epoch [890/1000], Loss: 1.2e-03\n",
      "Epoch [900/1000], Loss: 1.1e-03\n",
      "Epoch [910/1000], Loss: 1.1e-03\n",
      "Epoch [920/1000], Loss: 1.1e-03\n",
      "Epoch [930/1000], Loss: 1.1e-03\n",
      "Epoch [940/1000], Loss: 1.1e-03\n",
      "Epoch [950/1000], Loss: 1.1e-03\n",
      "Epoch [960/1000], Loss: 1.1e-03\n",
      "Epoch [970/1000], Loss: 1.1e-03\n",
      "Epoch [980/1000], Loss: 1.1e-03\n",
      "Epoch [990/1000], Loss: 1.1e-03\n",
      "Epoch [1000/1000], Loss: 1.1e-03\n"
     ]
    }
   ],
   "source": [
    "loss0 = None\n",
    "for epoch in range(num_epochs):\n",
    "    outputs = model(X_train_t)\n",
    "    optimizer.zero_grad()\n",
    "    loss = criterion(outputs, y_train_t)  \n",
    "    loss.backward()\n",
    "    if loss0 is None:\n",
    "        loss0 = loss.item()\n",
    "    if loss.item() / loss0 < accuracy:\n",
    "        break\n",
    "    optimizer.step()\n",
    "\n",
    "    if (epoch+1) % 10 == 0:\n",
    "        print(f'Epoch [{epoch+1}/{num_epochs}], Loss: {loss.item():.1e}')"
   ]
  },
  {
   "cell_type": "code",
   "execution_count": 12,
   "metadata": {},
   "outputs": [
    {
     "name": "stdout",
     "output_type": "stream",
     "text": [
      "\n",
      "              \n",
      "formatted feature data (length is 50): \n",
      "    tensor([[[-0.9112, -0.2479, -0.3334, -1.4693, -2.0194, -1.5133, -2.0235,\n",
      "          -2.0714, -1.1654, -1.5828]]])\n",
      "\n",
      "NN question[:1] (converted from formatted feature data, length is 50):\n",
      "    tensor([[[-0.9112, -0.2479, -0.3334, -1.4693, -2.0194, -1.5133, -2.0235,\n",
      "          -2.0714, -1.1654, -1.5828]]])\n",
      "NN answer[:5] (length is 50): \n",
      "    tensor([[0.1038]], grad_fn=<SliceBackward0>)\n",
      "              \n"
     ]
    },
    {
     "data": {
      "image/png": "[encoded data removed]",
      "text/plain": [
       "<Figure size 500x400 with 1 Axes>"
      ]
     },
     "metadata": {},
     "output_type": "display_data"
    }
   ],
   "source": [
    "nn_trening_result(model, X_test, y_test,\n",
    "        offset=0, label='testing', color='blue', alpha=0.3, verbose='')"
   ]
  },
  {
   "cell_type": "code",
   "execution_count": 13,
   "metadata": {},
   "outputs": [
    {
     "name": "stdout",
     "output_type": "stream",
     "text": [
      "Model(\n",
      "  (model): LSTM(10, 100, num_layers=3, batch_first=True)\n",
      "  (fc): Linear(in_features=100, out_features=1, bias=True)\n",
      "  (relu): ReLU()\n",
      ")\n"
     ]
    }
   ],
   "source": [
    "print(model)"
   ]
  },
  {
   "cell_type": "code",
   "execution_count": 37,
   "metadata": {},
   "outputs": [
    {
     "name": "stdout",
     "output_type": "stream",
     "text": [
      "\n",
      "              \n",
      "formatted feature data (length is 170): \n",
      "    tensor([[[1.3982, 1.1780, 1.3852, 1.3451, 1.2270, 1.1132, 1.6308, 1.4760,\n",
      "          1.3875, 0.9317]]])\n",
      "\n",
      "NN question[:1] (converted from formatted feature data, length is 170):\n",
      "    tensor([[[1.3982, 1.1780, 1.3852, 1.3451, 1.2270, 1.1132, 1.6308, 1.4760,\n",
      "          1.3875, 0.9317]]])\n",
      "NN answer[:5] (length is 170): \n",
      "    tensor([[0.8349]], grad_fn=<SliceBackward0>)\n",
      "              \n"
     ]
    },
    {
     "data": {
      "image/png": "[encoded data removed]",
      "text/plain": [
       "<Figure size 500x400 with 1 Axes>"
      ]
     },
     "metadata": {},
     "output_type": "display_data"
    }
   ],
   "source": [
    "X, y = cs.get_sequences(num=170)\n",
    "nn_trening_result(model, X, y,\n",
    "offset=0, label='', color='blue', alpha=0.3, verbose='')"
   ]
  }
 ],
 "metadata": {
  "kernelspec": {
   "display_name": "Python 3",
   "language": "python",
   "name": "python3"
  },
  "language_info": {
   "codemirror_mode": {
    "name": "ipython",
    "version": 3
   },
   "file_extension": ".py",
   "mimetype": "text/x-python",
   "name": "python",
   "nbconvert_exporter": "python",
   "pygments_lexer": "ipython3",
   "version": "3.10.7"
  }
 },
 "nbformat": 4,
 "nbformat_minor": 2
}
