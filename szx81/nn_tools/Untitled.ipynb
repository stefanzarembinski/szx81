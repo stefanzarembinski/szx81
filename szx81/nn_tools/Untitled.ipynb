{
 "cells": [
  {
   "cell_type": "code",
   "execution_count": null,
   "metadata": {},
   "outputs": [],
   "source": [
    "import numpy as np\n",
    "np.set_printoptions(formatter={'float_kind':\"{:-.3e}\".format})\n",
    "from sklearn.preprocessing import StandardScaler, MinMaxScaler\n",
    "\n",
    "import core as co\n",
    "import hist_data as hd\n",
    "hd.set_hist_data(data_count=None)"
   ]
  },
  {
   "cell_type": "code",
   "execution_count": 165,
   "metadata": {},
   "outputs": [],
   "source": [
    "class ForexDataSource:\n",
    "    def __init__(self, data, scalers, step=1):\n",
    "        \n",
    "        data = list(data)\n",
    "        self.step = step\n",
    "        self.scalers = scalers\n",
    "        self.feature_count = 2\n",
    "\n",
    "        self.indexes = [] \n",
    "        \n",
    "        opens = []\n",
    "        volumes = []\n",
    "        for i in range(0, len(data), step):\n",
    "            index = 0\n",
    "            open = 0\n",
    "            volume = 0\n",
    "            if i + step > len(data):\n",
    "                break\n",
    "            for k in range(step):\n",
    "                val = data[i + k]\n",
    "                index = int(val[0] // co.config.PERIOD)\n",
    "                open += (val[1][0][0] + val[1][1][0]) / 2\n",
    "                volume += val[2]\n",
    "                if k < step - 1:\n",
    "                    self.indexes.append(None)\n",
    "                    opens.append(None)\n",
    "                    volumes.append(None)                \n",
    "\n",
    "            self.indexes.append(index)\n",
    "            opens.append(open / step)\n",
    "            volumes.append(volume / step)\n",
    "\n",
    "        (opens, volumes) = self.fit_transform(\n",
    "            [np.array(opens).reshape(-1, 1), np.array(volumes).reshape(-1, 1)]\n",
    "            )\n",
    "        self.targets = opens.copy()\n",
    "        self.features = np.concatenate((opens, volumes), axis=1)\n",
    "\n",
    "    def fit_transform(self, data):\n",
    "        for i in range(len(data)):\n",
    "            data[i] = self.scalers[i].fit_transform(data[i])\n",
    "        return data\n",
    "    \n",
    "    def inverse_transform(self, data, index):\n",
    "        return self.scalers[index].inverse_x(data)\n",
    "    \n",
    "    def len(self):\n",
    "        return len(self.indexes)\n",
    "    \n",
    "    def get_data(self, end_index, data_count):\n",
    "        begin = end_index - data_count - 1\n",
    "        return (\n",
    "            np.array(self.features[begin: end_index]), \n",
    "            np.array(self.targets[begin: end_index]),\n",
    "            np.array(self.indexes[begin: end_index]))\n",
    "\n"
   ]
  },
  {
   "cell_type": "code",
   "execution_count": 169,
   "metadata": {},
   "outputs": [
    {
     "name": "stdout",
     "output_type": "stream",
     "text": [
      "targets:\n",
      " [2.884e-01 2.696e-01 2.587e-01 2.368e-01 2.650e-01 2.444e-01 2.226e-01\n",
      " 2.195e-01 1.658e-01 1.370e-01 5.087e-02 1.808e-02 1.153e-01 1.771e-01\n",
      " 2.172e-01 2.053e-01 3.148e-01 3.180e-01 2.858e-01 2.413e-01 1.339e-01\n",
      " 1.828e-01 3.263e-01 2.721e-01 2.087e-01 1.464e-01 2.311e-01 3.944e-01\n",
      " 5.367e-01 5.705e-01 3.625e-01 -8.400e-02 -2.533e-01 -3.816e-01]\n",
      "(101,)\n",
      "[2.884e-01 1.927e+00 2.696e-01 1.648e+00 2.587e-01 1.346e+00 2.368e-01\n",
      " 1.551e+00 2.650e-01 1.193e+00 2.444e-01 1.195e+00 2.226e-01 1.005e+00]\n"
     ]
    }
   ],
   "source": [
    "ds = ForexDataSource(\n",
    "    hd.DICT_DATA.values(), (StandardScaler(), StandardScaler()), 3)\n",
    "\n",
    "features, targets, indexes = ds.get_data(1000, 100)\n",
    "print('targets:\\n', targets[np.isfinite(targets)])\n",
    "print(indexes.shape)\n",
    "# print('indexes:\\n', indexes[np.isfinite(indexes)])\n",
    "seq = features[0 : 20]\n",
    "# print(seq)\n",
    "fl = seq.flatten()\n",
    "print(fl[np.isfinite(fl)])"
   ]
  },
  {
   "cell_type": "code",
   "execution_count": null,
   "metadata": {},
   "outputs": [],
   "source": [
    "class ContextSequencer:\n",
    "    def __init__(self, \n",
    "                data_source, \n",
    "                seq_len=5,  \n",
    "                future_len=5, \n",
    "                end_day=0):\n",
    "        self.data_source = data_source\n",
    "        self.seq_len = seq_len\n",
    "        self.future_len = future_len\n",
    "        self.first_trained_index = end_day * co.config.PERIOD * 60 * 24\n",
    "        self.trained_indexes = set()\n",
    "        self.last_trained_index = None\n",
    "\n",
    "    def create_sequences(self, end_index, seq_len, data_count, step=1):\n",
    "        \"\"\"Lists sequences of ``data`` items, ``seq_len`` long, ``data_count`` \n",
    "        of them, ending - not including - ``end_index`` index of ``data``. Each next sequence is shifted by 1 from the previous.\n",
    "        \"\"\"        \n",
    "        _features, _targets, _indexes = self.data_source.get_data(\n",
    "                            end_index, data_count + seq_len + self.future_len)\n",
    "\n",
    "        features = []\n",
    "        targets = []\n",
    "        y_indexes = []\n",
    "        for i in range(data_count):\n",
    "            features.append(\n",
    "                _features[i: (i + seq_len)].flatten()\n",
    "            )\n",
    "            y_indexes.append(\n",
    "                _indexes[i + seq_len + self.future_len - 1]\n",
    "            )\n",
    "            targets.append(\n",
    "                _targets[i + seq_len + self.future_len - 1][0]\n",
    "            )\n",
    "\n",
    "        return np.array(features), np.array(targets), y_indexes    "
   ]
  },
  {
   "cell_type": "code",
   "execution_count": null,
   "metadata": {},
   "outputs": [
    {
     "name": "stdout",
     "output_type": "stream",
     "text": [
      "[1.093e-01 4.194e+00 -2.251e-01 6.056e+00 -1.361e-01 8.092e+00]\n",
      "-0.38475342033816684\n",
      "27880691\n"
     ]
    }
   ],
   "source": [
    "cs = ContextSequencer(\n",
    "    ForexDataSource(hd.DICT_DATA.values(), (StandardScaler(), StandardScaler())))\n",
    "\n",
    "features, targets, indexes = cs.create_sequences(end_index=1000, seq_len=3, data_count=100)\n",
    "print(features[-1])\n",
    "print(targets[-1])\n",
    "print(indexes[-1])"
   ]
  }
 ],
 "metadata": {
  "kernelspec": {
   "display_name": "Python 3",
   "language": "python",
   "name": "python3"
  },
  "language_info": {
   "codemirror_mode": {
    "name": "ipython",
    "version": 3
   },
   "file_extension": ".py",
   "mimetype": "text/x-python",
   "name": "python",
   "nbconvert_exporter": "python",
   "pygments_lexer": "ipython3",
   "version": "3.10.7"
  }
 },
 "nbformat": 4,
 "nbformat_minor": 2
}
