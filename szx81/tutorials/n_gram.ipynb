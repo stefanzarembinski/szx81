{
 "cells": [
  {
   "cell_type": "code",
   "execution_count": 2,
   "metadata": {},
   "outputs": [],
   "source": [
    "from os import path\n",
    "import importlib\n",
    "import pickle\n",
    "\n",
    "import torch\n",
    "import torch.nn as nn\n",
    "import torch.nn.functional as F\n",
    "import torch.optim as optim\n",
    "_ = torch.manual_seed(1)\n",
    "\n",
    "import pandas as pd\n",
    "import seaborn as sns\n",
    "from sklearn.decomposition import PCA\n",
    "import matplotlib.pyplot as plt\n",
    "from sklearn.manifold import TSNE"
   ]
  },
  {
   "cell_type": "code",
   "execution_count": 3,
   "metadata": {},
   "outputs": [],
   "source": [
    "# We will use Shakespeare Sonnet 2\n",
    "training_story = \"\"\"When forty winters shall besiege thy brow,\n",
    "And dig deep trenches in thy beauty's field,\n",
    "Thy youth's proud livery so gazed on now,\n",
    "Will be a totter'd weed of small worth held:\n",
    "Then being asked, where all thy beauty lies,\n",
    "Where all the treasure of thy lusty days;\n",
    "To say, within thine own deep sunken eyes,\n",
    "Were an all-eating shame, and thriftless praise.\n",
    "How much more praise deserv'd thy beauty's use,\n",
    "If thou couldst answer 'This fair child of mine\n",
    "Shall sum my count, and make my old excuse,'\n",
    "Proving his beauty by succession thine!\n",
    "This were to be new made when thou art old,\n",
    "And see thy blood warm when thou feel'st it cold.\"\"\".split()\n",
    "# we should tokenize the input, but we will ignore that for now\n",
    "# build a list of tuples.\n",
    "# Each tuple is ([ word_i-CONTEXT_SIZE, ..., word_i-1 ], target word)"
   ]
  },
  {
   "cell_type": "code",
   "execution_count": 4,
   "metadata": {},
   "outputs": [
    {
     "name": "stdout",
     "output_type": "stream",
     "text": [
      "[(['shall', 'winters', 'forty', 'When'], 'besiege'), (['besiege', 'shall', 'winters', 'forty'], 'thy'), (['thy', 'besiege', 'shall', 'winters'], 'brow,')]\n"
     ]
    }
   ],
   "source": [
    "CONTEXT_SIZE = 4\n",
    "EMBEDDING_DIM = 10\n",
    "\n",
    "ngrams = [\n",
    "    (\n",
    "        [training_story[i - j - 1] for j in range(CONTEXT_SIZE)],\n",
    "        training_story[i]\n",
    "    )\n",
    "    for i in range(CONTEXT_SIZE, len(training_story))\n",
    "]\n",
    "\n",
    "print(ngrams[:3])\n",
    "\n",
    "vocab = set(training_story)\n",
    "vocab.update([' '])\n",
    "# word_to_ix = {word: i for i, word in enumerate(vocab)}\n",
    "\n",
    "word_to_ix = {word: ix for ix, word in enumerate(vocab)}\n",
    "ix_to_word = {ix: word for ix, word in enumerate(vocab)}\n",
    "\n",
    "def get_context_vector(context):\n",
    "    idxs = [word_to_ix[w] for w in context] \n",
    "    return torch.tensor(idxs, dtype=torch.long)"
   ]
  },
  {
   "cell_type": "code",
   "execution_count": 15,
   "metadata": {},
   "outputs": [],
   "source": [
    "class MODEL(nn.Module):\n",
    "\n",
    "    def __init__(self, vocab_size, embedding_dim, context_size):\n",
    "        super(MODEL, self).__init__()\n",
    "        self.embeddings = nn.Embedding(vocab_size, embedding_dim)\n",
    "        self.linear1 = nn.Linear(context_size * embedding_dim, 128)\n",
    "        self.linear2 = nn.Linear(128, vocab_size)\n",
    "\n",
    "    def forward(self, inputs):\n",
    "        embeds = self.embeddings(inputs).view((1, -1))\n",
    "        out = F.relu(self.linear1(embeds))\n",
    "        out = self.linear2(out)\n",
    "        log_probs = F.log_softmax(out, dim=1 )\n",
    "        return log_probs"
   ]
  },
  {
   "cell_type": "code",
   "execution_count": 16,
   "metadata": {},
   "outputs": [],
   "source": [
    "model = MODEL(len(vocab), EMBEDDING_DIM, CONTEXT_SIZE)\n",
    "loss_function = nn.NLLLoss()\n",
    "optimizer = optim.SGD(model.parameters(), lr=0.001)"
   ]
  },
  {
   "cell_type": "code",
   "execution_count": 17,
   "metadata": {},
   "outputs": [
    {
     "ename": "IndexError",
     "evalue": "Dimension out of range (expected to be in range of [-2, 1], but got 2)",
     "output_type": "error",
     "traceback": [
      "\u001b[1;31m---------------------------------------------------------------------------\u001b[0m",
      "\u001b[1;31mIndexError\u001b[0m                                Traceback (most recent call last)",
      "Cell \u001b[1;32mIn[17], line 7\u001b[0m\n\u001b[0;32m      5\u001b[0m context_vector \u001b[38;5;241m=\u001b[39m torch\u001b[38;5;241m.\u001b[39mtensor([word_to_ix[w] \u001b[38;5;28;01mfor\u001b[39;00m w \u001b[38;5;129;01min\u001b[39;00m context], dtype\u001b[38;5;241m=\u001b[39mtorch\u001b[38;5;241m.\u001b[39mlong)\n\u001b[0;32m      6\u001b[0m model\u001b[38;5;241m.\u001b[39mzero_grad()\n\u001b[1;32m----> 7\u001b[0m log_probs \u001b[38;5;241m=\u001b[39m \u001b[43mmodel\u001b[49m\u001b[43m(\u001b[49m\u001b[43mcontext_vector\u001b[49m\u001b[43m)\u001b[49m\n\u001b[0;32m      8\u001b[0m loss \u001b[38;5;241m=\u001b[39m loss_function(log_probs, torch\u001b[38;5;241m.\u001b[39mtensor(\n\u001b[0;32m      9\u001b[0m     [word_to_ix[target]], dtype\u001b[38;5;241m=\u001b[39mtorch\u001b[38;5;241m.\u001b[39mlong))\n\u001b[0;32m     10\u001b[0m loss\u001b[38;5;241m.\u001b[39mbackward()\n",
      "File \u001b[1;32mc:\\Python\\Python310\\lib\\site-packages\\torch\\nn\\modules\\module.py:1736\u001b[0m, in \u001b[0;36mModule._wrapped_call_impl\u001b[1;34m(self, *args, **kwargs)\u001b[0m\n\u001b[0;32m   1734\u001b[0m     \u001b[38;5;28;01mreturn\u001b[39;00m \u001b[38;5;28mself\u001b[39m\u001b[38;5;241m.\u001b[39m_compiled_call_impl(\u001b[38;5;241m*\u001b[39margs, \u001b[38;5;241m*\u001b[39m\u001b[38;5;241m*\u001b[39mkwargs)  \u001b[38;5;66;03m# type: ignore[misc]\u001b[39;00m\n\u001b[0;32m   1735\u001b[0m \u001b[38;5;28;01melse\u001b[39;00m:\n\u001b[1;32m-> 1736\u001b[0m     \u001b[38;5;28;01mreturn\u001b[39;00m \u001b[38;5;28mself\u001b[39m\u001b[38;5;241m.\u001b[39m_call_impl(\u001b[38;5;241m*\u001b[39margs, \u001b[38;5;241m*\u001b[39m\u001b[38;5;241m*\u001b[39mkwargs)\n",
      "File \u001b[1;32mc:\\Python\\Python310\\lib\\site-packages\\torch\\nn\\modules\\module.py:1747\u001b[0m, in \u001b[0;36mModule._call_impl\u001b[1;34m(self, *args, **kwargs)\u001b[0m\n\u001b[0;32m   1742\u001b[0m \u001b[38;5;66;03m# If we don't have any hooks, we want to skip the rest of the logic in\u001b[39;00m\n\u001b[0;32m   1743\u001b[0m \u001b[38;5;66;03m# this function, and just call forward.\u001b[39;00m\n\u001b[0;32m   1744\u001b[0m \u001b[38;5;28;01mif\u001b[39;00m \u001b[38;5;129;01mnot\u001b[39;00m (\u001b[38;5;28mself\u001b[39m\u001b[38;5;241m.\u001b[39m_backward_hooks \u001b[38;5;129;01mor\u001b[39;00m \u001b[38;5;28mself\u001b[39m\u001b[38;5;241m.\u001b[39m_backward_pre_hooks \u001b[38;5;129;01mor\u001b[39;00m \u001b[38;5;28mself\u001b[39m\u001b[38;5;241m.\u001b[39m_forward_hooks \u001b[38;5;129;01mor\u001b[39;00m \u001b[38;5;28mself\u001b[39m\u001b[38;5;241m.\u001b[39m_forward_pre_hooks\n\u001b[0;32m   1745\u001b[0m         \u001b[38;5;129;01mor\u001b[39;00m _global_backward_pre_hooks \u001b[38;5;129;01mor\u001b[39;00m _global_backward_hooks\n\u001b[0;32m   1746\u001b[0m         \u001b[38;5;129;01mor\u001b[39;00m _global_forward_hooks \u001b[38;5;129;01mor\u001b[39;00m _global_forward_pre_hooks):\n\u001b[1;32m-> 1747\u001b[0m     \u001b[38;5;28;01mreturn\u001b[39;00m forward_call(\u001b[38;5;241m*\u001b[39margs, \u001b[38;5;241m*\u001b[39m\u001b[38;5;241m*\u001b[39mkwargs)\n\u001b[0;32m   1749\u001b[0m result \u001b[38;5;241m=\u001b[39m \u001b[38;5;28;01mNone\u001b[39;00m\n\u001b[0;32m   1750\u001b[0m called_always_called_hooks \u001b[38;5;241m=\u001b[39m \u001b[38;5;28mset\u001b[39m()\n",
      "Cell \u001b[1;32mIn[15], line 13\u001b[0m, in \u001b[0;36mMODEL.forward\u001b[1;34m(self, inputs)\u001b[0m\n\u001b[0;32m     11\u001b[0m out \u001b[38;5;241m=\u001b[39m F\u001b[38;5;241m.\u001b[39mrelu(\u001b[38;5;28mself\u001b[39m\u001b[38;5;241m.\u001b[39mlinear1(embeds))\n\u001b[0;32m     12\u001b[0m out \u001b[38;5;241m=\u001b[39m \u001b[38;5;28mself\u001b[39m\u001b[38;5;241m.\u001b[39mlinear2(out)\n\u001b[1;32m---> 13\u001b[0m log_probs \u001b[38;5;241m=\u001b[39m \u001b[43mF\u001b[49m\u001b[38;5;241;43m.\u001b[39;49m\u001b[43mlog_softmax\u001b[49m\u001b[43m(\u001b[49m\u001b[43mout\u001b[49m\u001b[43m,\u001b[49m\u001b[43m \u001b[49m\u001b[43mdim\u001b[49m\u001b[38;5;241;43m=\u001b[39;49m\u001b[38;5;241;43m2\u001b[39;49m\u001b[43m)\u001b[49m\n\u001b[0;32m     14\u001b[0m \u001b[38;5;28;01mreturn\u001b[39;00m log_probs\n",
      "File \u001b[1;32mc:\\Python\\Python310\\lib\\site-packages\\torch\\nn\\functional.py:2248\u001b[0m, in \u001b[0;36mlog_softmax\u001b[1;34m(input, dim, _stacklevel, dtype)\u001b[0m\n\u001b[0;32m   2246\u001b[0m     dim \u001b[38;5;241m=\u001b[39m _get_softmax_dim(\u001b[38;5;124m\"\u001b[39m\u001b[38;5;124mlog_softmax\u001b[39m\u001b[38;5;124m\"\u001b[39m, \u001b[38;5;28minput\u001b[39m\u001b[38;5;241m.\u001b[39mdim(), _stacklevel)\n\u001b[0;32m   2247\u001b[0m \u001b[38;5;28;01mif\u001b[39;00m dtype \u001b[38;5;129;01mis\u001b[39;00m \u001b[38;5;28;01mNone\u001b[39;00m:\n\u001b[1;32m-> 2248\u001b[0m     ret \u001b[38;5;241m=\u001b[39m \u001b[38;5;28;43minput\u001b[39;49m\u001b[38;5;241;43m.\u001b[39;49m\u001b[43mlog_softmax\u001b[49m\u001b[43m(\u001b[49m\u001b[43mdim\u001b[49m\u001b[43m)\u001b[49m\n\u001b[0;32m   2249\u001b[0m \u001b[38;5;28;01melse\u001b[39;00m:\n\u001b[0;32m   2250\u001b[0m     ret \u001b[38;5;241m=\u001b[39m \u001b[38;5;28minput\u001b[39m\u001b[38;5;241m.\u001b[39mlog_softmax(dim, dtype\u001b[38;5;241m=\u001b[39mdtype)\n",
      "\u001b[1;31mIndexError\u001b[0m: Dimension out of range (expected to be in range of [-2, 1], but got 2)"
     ]
    }
   ],
   "source": [
    "loss0 = None\n",
    "for epoch in range(150):\n",
    "    total_loss = 0\n",
    "    for context, target in ngrams:\n",
    "        context_vector = torch.tensor([word_to_ix[w] for w in context], dtype=torch.long)\n",
    "        model.zero_grad()\n",
    "        log_probs = model(context_vector)\n",
    "        loss = loss_function(log_probs, torch.tensor(\n",
    "            [word_to_ix[target]], dtype=torch.long))\n",
    "        loss.backward()\n",
    "        optimizer.step()\n",
    "\n",
    "        total_loss += loss.item()\n",
    "    if loss0 is None:\n",
    "        loss0 = total_loss\n",
    "\n",
    "print(f'start loss: {loss0:.1e}, stop loss: {total_loss:.1e}')"
   ]
  },
  {
   "cell_type": "code",
   "execution_count": 8,
   "metadata": {},
   "outputs": [
    {
     "name": "stdout",
     "output_type": "stream",
     "text": [
      "[' ', \"'This\", 'And', 'How', 'If', 'Proving', 'Shall', 'Then', 'This', 'Thy', 'To', 'Were', 'When', 'Where', 'Will', 'a', 'all', 'all-eating', 'an', 'and', 'answer', 'art', 'asked,', 'be', 'beauty', \"beauty's\", 'being', 'besiege', 'blood', 'brow,', 'by', 'child', 'cold.', 'couldst', 'count,', 'days;', 'deep', \"deserv'd\", 'dig', \"excuse,'\", 'eyes,', 'fair', \"feel'st\", 'field,', 'forty', 'gazed', 'held:', 'his', 'in', 'it', 'lies,', 'livery', 'lusty', 'made', 'make', 'mine', 'more', 'much', 'my', 'new', 'now,', 'of', 'old', 'old,', 'on', 'own', 'praise', 'praise.', 'proud', 'say,', 'see', 'shall', 'shame,', 'small', 'so', 'succession', 'sum', 'sunken', 'the', 'thine', 'thine!', 'thou', 'thriftless', 'thy', 'to', \"totter'd\", 'treasure', 'trenches', 'use,', 'warm', 'weed', 'were', 'when', 'where', 'winters', 'within', 'worth', \"youth's\"]\n"
     ]
    }
   ],
   "source": [
    "print(sorted(list(vocab)))"
   ]
  },
  {
   "cell_type": "code",
   "execution_count": 9,
   "metadata": {},
   "outputs": [],
   "source": [
    "data_idx = 20"
   ]
  },
  {
   "cell_type": "code",
   "execution_count": 14,
   "metadata": {},
   "outputs": [
    {
     "name": "stdout",
     "output_type": "stream",
     "text": [
      "context: ['being', ' ', 'held:', 'worth']\n",
      "tensor([[-4.3287, -4.2656, -3.6168, -5.4709, -5.4323, -5.6790, -5.4673, -3.2791,\n",
      "         -3.7212, -4.6348, -4.9995, -5.3891, -4.7946, -4.8762, -4.4622, -4.8720,\n",
      "         -4.3141, -4.7521, -5.3510, -4.9665, -4.7108, -5.7955, -5.7543, -5.0231,\n",
      "         -5.9565, -4.2253, -5.9976, -3.7840, -3.4336, -5.2284, -4.3626, -4.3713,\n",
      "         -5.2724, -4.4917, -4.8366, -5.8540, -5.4276, -4.7296, -5.4987, -6.0153,\n",
      "         -4.4347, -5.2273, -2.2138, -4.4369, -4.5156, -4.1131, -5.1381, -5.2944,\n",
      "         -4.8984, -5.4978, -5.7422, -5.0508, -4.8293, -5.1023, -4.6523, -5.0076,\n",
      "         -5.5762, -3.8957, -5.4609, -4.3599, -5.9070, -4.7969, -5.7435, -5.5962,\n",
      "         -4.7949, -5.8740, -5.0567, -5.6563, -5.3822, -4.0772, -5.4121, -5.2038,\n",
      "         -5.9257, -4.1431, -4.6968, -4.4568, -3.3138, -5.1559, -4.5258, -5.7467,\n",
      "         -5.1770, -5.2306, -3.5998, -4.4632, -5.5431, -5.1265, -4.0503, -4.8073,\n",
      "         -5.1795, -5.1709, -3.8178, -5.6500, -5.5734, -4.6234, -4.3921, -5.0174,\n",
      "         -4.5214, -5.6916]], grad_fn=<LogSoftmaxBackward0>)\n",
      "Fact:       being   held: worth asked,\n",
      "Prediction: being   held: worth asked,\n"
     ]
    }
   ],
   "source": [
    "data = ngrams[data_idx]\n",
    "data_idx = (data_idx + 10) % len(ngrams)\n",
    "context = data[0]\n",
    "context[1] = ' '\n",
    "print(f'context: {context}')\n",
    "context_vector = get_context_vector(context)\n",
    "a = model(context_vector)\n",
    "print(a)\n",
    "pred = ix_to_word[torch.argmax(a[0]).item()]\n",
    "\n",
    "context_ = ' '.join(context)\n",
    "\n",
    "# print(f'data: {data}')\n",
    "# print(f'Context: {\" \".join(context)}\\n')\n",
    "print(f'Fact:       {context_ + \" \" + data[1]}')\n",
    "\n",
    "print(f'Prediction: {context_ + \" \" + pred}')"
   ]
  },
  {
   "cell_type": "code",
   "execution_count": 11,
   "metadata": {},
   "outputs": [],
   "source": [
    "def show_embeddings(embeddings, pca_n=3, palette='viridis'):\n",
    "    \"\"\"\n",
    "    Parameters:\n",
    "    -----------\n",
    "    embeddings : ``nn.Embedding`` object\n",
    "    palette : seaborn color palette name: 'viridis', 'hls'\n",
    "    \"\"\"\n",
    "    weight = embeddings.weight.clone().detach()\n",
    "    shape = weight.shape # torch.Size([896, 15])\n",
    "    data_frame = pd.DataFrame(embeddings.weight.clone().detach())\n",
    "    data_frame.columns = [str(_) for _ in range(shape[1])]\n",
    "\n",
    "    pca = PCA(n_components=pca_n) # Principal component analysis keeping n_components\n",
    "    pca_result = pca.fit_transform(X=data_frame)\n",
    "    tsne = TSNE(n_components=2, perplexity=5, random_state=42, init='random', learning_rate=200)\n",
    "    tsne_results = tsne.fit_transform(pca_result)\n",
    "\n",
    "    plt.figure(figsize=(5, 4))\n",
    "    sns.scatterplot(\n",
    "    x=tsne_results[:,0], \n",
    "    y=tsne_results[:,1],\n",
    "    hue=[_ for _ in range(shape[0])],\n",
    "    palette=sns.color_palette(palette, shape[0]),\n",
    "    legend=None,\n",
    "    alpha=0.3\n",
    ")\n",
    "\n",
    "def get_embeddings_save_path(embedding_dim, context_size):\n",
    "    return f'cbow_embeddings_{embedding_dim}_{context_size}.pkl'\n",
    "\n",
    "def save_embeddings(embeddings, embedding_dim, context_size):\n",
    "    with open(path.join(\n",
    "            co.DATA_STORE, \n",
    "            get_embeddings_save_path(embedding_dim, context_size)), 'wb') as f:\n",
    "        pickle.dump(embeddings, f)\n",
    "\n",
    "def get_data_from_file(embedding_dim, context_size):      \n",
    "    with open(\n",
    "        path.join(\n",
    "            co.DATA_STORE, \n",
    "            get_embeddings_save_path(embedding_dim, context_size)), 'rb') as f:\n",
    "        data = pickle.load(f)\n",
    "    return data"
   ]
  },
  {
   "cell_type": "code",
   "execution_count": null,
   "metadata": {},
   "outputs": [
    {
     "data": {
      "image/png": "[encoded data removed]",
      "text/plain": [
       "<Figure size 500x400 with 1 Axes>"
      ]
     },
     "metadata": {},
     "output_type": "display_data"
    }
   ],
   "source": [
    "show_embeddings(model.embeddings)"
   ]
  },
  {
   "cell_type": "code",
   "execution_count": 13,
   "metadata": {},
   "outputs": [
    {
     "name": "stdout",
     "output_type": "stream",
     "text": [
      "tensor([[-4.5648, -4.2481, -4.8602, -3.9978, -3.2734, -4.3922, -4.8017, -5.3223,\n",
      "         -4.5354, -3.9248, -4.0853, -4.3352, -5.7628, -5.5348, -3.8981, -5.0879,\n",
      "         -5.3804, -5.5536, -4.7685, -3.9296, -4.9829, -4.1437, -5.2061, -3.9851,\n",
      "         -5.1883, -5.1863, -5.3967, -4.2010, -3.4325, -4.9410, -4.8930, -5.3476,\n",
      "         -4.7875, -3.0114, -4.2214, -5.7070, -5.3376, -5.9218, -4.0446, -5.9791,\n",
      "         -4.4726, -4.2682, -5.0540, -4.4920, -5.1545, -4.4716, -5.7794, -4.8091,\n",
      "         -4.4482, -4.8727, -5.9519, -4.7554, -4.7600, -5.9252, -4.7701, -5.6405,\n",
      "         -3.7964, -4.6269, -3.3169, -3.0831, -5.9037, -5.8224, -5.1637, -4.5711,\n",
      "         -5.0318, -5.0214, -4.5077, -3.9268, -5.4881, -5.6330, -5.6634, -6.3164,\n",
      "         -4.3606, -4.5751, -5.6925, -4.7507, -4.9381, -5.5693, -5.7364, -6.3852,\n",
      "         -3.8290, -5.5569, -4.2290, -5.9719, -5.4628, -4.7446, -5.3130, -5.2426,\n",
      "         -5.8359, -5.6113, -5.2785, -5.8616, -5.2971, -5.8079, -4.2258, -3.4462,\n",
      "         -4.1239, -5.8899]], grad_fn=<LogSoftmaxBackward0>)\n"
     ]
    }
   ],
   "source": [
    "for context, _ in ngrams[:1]:\n",
    "\n",
    "    # Step 1. Prepare the inputs to be passed to the model (i.e, turn the words\n",
    "    # into integer indices and wrap them in tensors)\n",
    "    context_vector = torch.tensor([word_to_ix[w] for w in context], \n",
    "        dtype=torch.long)\n",
    "    \n",
    "\n",
    "    print(model(torch.tensor([0, 0, 0, 0])))"
   ]
  }
 ],
 "metadata": {
  "kernelspec": {
   "display_name": "Python 3",
   "language": "python",
   "name": "python3"
  },
  "language_info": {
   "codemirror_mode": {
    "name": "ipython",
    "version": 3
   },
   "file_extension": ".py",
   "mimetype": "text/x-python",
   "name": "python",
   "nbconvert_exporter": "python",
   "pygments_lexer": "ipython3",
   "version": "3.10.7"
  }
 },
 "nbformat": 4,
 "nbformat_minor": 2
}
