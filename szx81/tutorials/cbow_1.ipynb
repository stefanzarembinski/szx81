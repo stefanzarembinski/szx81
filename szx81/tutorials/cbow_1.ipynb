{
 "cells": [
  {
   "cell_type": "code",
   "execution_count": 21,
   "metadata": {},
   "outputs": [],
   "source": [
    "import torch\n",
    "import torch.nn as nn"
   ]
  },
  {
   "cell_type": "code",
   "execution_count": 22,
   "metadata": {},
   "outputs": [],
   "source": [
    "training_story = \"\"\"We are about to study the idea of a computational process.\n",
    "Computational processes are abstract beings that inhabit computers.\n",
    "As they evolve, processes manipulate other abstract things called data.\n",
    "The evolution of a process is directed by a pattern of rules\n",
    "called a program. People create programs to direct processes. In effect,\n",
    "we conjure the spirits of the computer with our spells.\"\"\".split()"
   ]
  },
  {
   "cell_type": "code",
   "execution_count": 24,
   "metadata": {},
   "outputs": [
    {
     "name": "stdout",
     "output_type": "stream",
     "text": [
      "[(['We', 'are', 'to', 'study'], 'about'), (['are', 'about', 'study', 'the'], 'to'), (['about', 'to', 'the', 'idea'], 'study')]\n"
     ]
    }
   ],
   "source": [
    "\n",
    "CONTEXT_SIZE = 2  # 2 words to the left, 2 to the right\n",
    "EMBEDDING_DIM = 100\n",
    "\n",
    "ngrams = []\n",
    "for i in range(2, len(training_story) - 2):\n",
    "    context = [training_story[i - 2], training_story[i - 1],\n",
    "               training_story[i + 1], training_story[i + 2]]\n",
    "    target = training_story[i]\n",
    "    ngrams.append((context, target))\n",
    "    \n",
    "print(ngrams[:3])\n",
    "\n",
    "vocab = list(set(training_story))\n",
    "vocab.extend([' '])\n",
    "vocab_size = len(vocab)\n",
    "\n",
    "word_to_ix = {word: ix for ix, word in enumerate(vocab)}\n",
    "ix_to_word = {ix: word for ix, word in enumerate(vocab)}\n",
    "\n",
    "def get_context_vector(context):\n",
    "    idxs = [word_to_ix[w] for w in context] \n",
    "    return torch.tensor(idxs, dtype=torch.long)"
   ]
  },
  {
   "cell_type": "code",
   "execution_count": 25,
   "metadata": {},
   "outputs": [],
   "source": [
    "class Model(nn.Module):\n",
    "    def __init__(self, vocab_size, embedding_dim):\n",
    "        super(Model, self).__init__()\n",
    "        \n",
    "        #out: 1 x EMBEDDING_DIM\n",
    "        self.embeddings = nn.Embedding(vocab_size, embedding_dim)\n",
    "        self.linear1 = nn.Linear(embedding_dim, 128)\n",
    "        self.activation_function1 = nn.ReLU()  \n",
    "\n",
    "        #out: 1 x vocab_size\n",
    "        self.linear2 = nn.Linear(128, vocab_size)\n",
    "        self.activation_function2 = nn.LogSoftmax(dim = -1)\n",
    "        \n",
    "    def forward(self, inputs):\n",
    "        embeds = sum(self.embeddings(inputs)).view(1,-1)\n",
    "        out = self.linear1(embeds)\n",
    "        out = self.activation_function1(out)\n",
    "        out = self.linear2(out)\n",
    "        out = self.activation_function2(out)\n",
    "        return out\n",
    "\n",
    "    def get_word_emdedding(self, word):\n",
    "        word = torch.tensor([word_to_ix[word]])\n",
    "        return self.embeddings(word).view(1,-1)"
   ]
  },
  {
   "cell_type": "code",
   "execution_count": 26,
   "metadata": {},
   "outputs": [],
   "source": [
    "model = Model(vocab_size, EMBEDDING_DIM)\n",
    "\n",
    "loss_function = nn.NLLLoss()\n",
    "optimizer = torch.optim.SGD(model.parameters(), lr=0.001)"
   ]
  },
  {
   "cell_type": "code",
   "execution_count": 27,
   "metadata": {},
   "outputs": [
    {
     "data": {
      "text/plain": [
       "['they', 'evolve,', 'manipulate', 'other']"
      ]
     },
     "execution_count": 27,
     "metadata": {},
     "output_type": "execute_result"
    }
   ],
   "source": [
    "# for context, target in ngrams[20:21]:\n",
    "#     print(context)\n",
    "ngrams[20][0]"
   ]
  },
  {
   "cell_type": "code",
   "execution_count": 28,
   "metadata": {},
   "outputs": [],
   "source": [
    "for epoch in range(50):\n",
    "    total_loss = 0\n",
    "\n",
    "    for context, target in ngrams:\n",
    "        context_vector = get_context_vector(context)  \n",
    "        log_probs = model(context_vector)\n",
    "        total_loss += loss_function(log_probs, torch.tensor(\n",
    "            [word_to_ix[target]]))\n",
    "\n",
    "    optimizer.zero_grad()\n",
    "    total_loss.backward()\n",
    "    optimizer.step()"
   ]
  },
  {
   "cell_type": "code",
   "execution_count": 29,
   "metadata": {},
   "outputs": [],
   "source": [
    "data_idx = 20"
   ]
  },
  {
   "cell_type": "code",
   "execution_count": 30,
   "metadata": {},
   "outputs": [
    {
     "name": "stdout",
     "output_type": "stream",
     "text": [
      "context: ['they', ' ', 'manipulate', 'other']\n",
      "Fact:       they   manipulate other processes\n",
      "Prediction: they   manipulate other processes\n"
     ]
    }
   ],
   "source": [
    "data = ngrams[data_idx]\n",
    "data_idx = (data_idx + 10) % len(ngrams)\n",
    "context = data[0]\n",
    "context[1] = ' '\n",
    "print(f'context: {context}')\n",
    "context_vector = get_context_vector(context)\n",
    "a = model(context_vector)\n",
    "pred = ix_to_word[torch.argmax(a[0]).item()]\n",
    "\n",
    "context_ = ' '.join(context)\n",
    "\n",
    "# print(f'data: {data}')\n",
    "# print(f'Context: {\" \".join(context)}\\n')\n",
    "print(f'Fact:       {context_ + \" \" + data[1]}')\n",
    "\n",
    "print(f'Prediction: {context_ + \" \" + pred}')"
   ]
  }
 ],
 "metadata": {
  "kernelspec": {
   "display_name": "Python 3",
   "language": "python",
   "name": "python3"
  },
  "language_info": {
   "codemirror_mode": {
    "name": "ipython",
    "version": 3
   },
   "file_extension": ".py",
   "mimetype": "text/x-python",
   "name": "python",
   "nbconvert_exporter": "python",
   "pygments_lexer": "ipython3",
   "version": "3.10.7"
  }
 },
 "nbformat": 4,
 "nbformat_minor": 2
}
